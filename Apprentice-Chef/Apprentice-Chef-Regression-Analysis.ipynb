{
 "cells": [
  {
   "cell_type": "markdown",
   "metadata": {
    "deletable": false,
    "editable": false
   },
   "source": [
    "<br><h1>A1 Report - Regression-Based Analysis </h1>\n",
    "<h2>Machine Learning - DAT-5303 - FMSBA3 </h2>\n",
    "By: Sophie Briques<br>\n",
    "Hult International Business School<br><br><br>\n",
    "\n",
    "***"
   ]
  },
  {
   "cell_type": "markdown",
   "metadata": {
    "deletable": false,
    "editable": false
   },
   "source": [
    "### Overview"
   ]
  },
  {
   "cell_type": "markdown",
   "metadata": {
    "deletable": false,
    "editable": false
   },
   "source": [
    "- Best performing model was a Linear Regression with 15 features with a test score of 0.8279 and a cross validation score with 11 folds at 0.8076\n",
    "- Optimal features were found using regularization methods such as Lasso and ARD Regression\n",
    "- It is predicting the log of revenue, therefore when interpreting coefficients, it is important to transform back using 10<sup>(coef)\n",
    "\n",
    "***"
   ]
  },
  {
   "cell_type": "markdown",
   "metadata": {
    "deletable": false,
    "editable": false
   },
   "source": [
    "<strong> Case: Apprentice Chef, Inc. </strong> <br>\n",
    "<i> Audience: Top Executives </i> <br>\n",
    "<strong> Goal: </strong> understand how much revenue to expect from each customer within their first year of orders <br>\n",
    "<strong> Target consumer: </strong> busy professional, little to no skills in the kitchen <br>\n",
    "<strong> Product: </strong> daily-prepared gourmet meals delivered <br>\n",
    "<strong>Channels: </strong> online platform and mobile app <br> \n",
    "<strong>Revenue: </strong> 90% of revenue comes from customers that have been ordering for 12 months or less\n",
    "\n",
    "\n",
    "<br> Specifications: \n",
    "- at most 30 min to finish cooking\n",
    "- disposable cookware\n",
    "- delicious and healthy eating\n",
    "<br> Channels: online platform and mobile app\n",
    "Revenue: 90% of revenue comes from customers that have been ordering for 12 months or less\n",
    "\n",
    "\n",
    "\n"
   ]
  },
  {
   "cell_type": "markdown",
   "metadata": {
    "deletable": false,
    "editable": false
   },
   "source": [
    "***\n",
    "<strong> Data and Assumptions </strong> <br>\n",
    "Dataset:\n",
    "<br> 2,000 customers (approx.)\n",
    "- at least one purchase per month for a total of 11 of their first 12 months\n",
    "- at least one purchase per quarter and at least 15 purchases through their first year\n",
    "- dataset engineering techniques are statistically sound and represent the customers\n",
    "\n",
    "\n",
    "Assumptions:\n",
    "- all average times are in seconds\n",
    "- revenue = price x quantity and total meals ordered represent quantity\n",
    "- when customers attend master classes, they are looking to increase their cooking skills\n",
    "\n",
    "***\n",
    "<strong> Outline: </strong>\n",
    "1. Part 1: Exploratory Data Analysis\n",
    "2. Part 2: Transformations\n",
    "3. Part 3: Build a machine learning model to predict revenue \n",
    "4. Part 4: Evaluating Model\n",
    "\n"
   ]
  },
  {
   "cell_type": "code",
   "execution_count": 1,
   "metadata": {
    "deletable": false,
    "editable": false
   },
   "outputs": [],
   "source": [
    "# Importing Necessary Libraries\n",
    "import pandas                  as pd  # data science essentials\n",
    "import matplotlib.pyplot       as plt # essential graphical output\n",
    "import seaborn                 as sns # enhanced graphical output\n",
    "import statsmodels.formula.api as smf # regression modeling\n",
    "from   sklearn.model_selection import train_test_split    # train test split\n",
    "from   sklearn.neighbors       import KNeighborsRegressor # KNN for Regression\n",
    "from   sklearn.preprocessing   import StandardScaler      # standard scaler\n",
    "from   sklearn.linear_model    import LinearRegression    # linear regression (scikit-learn)\n",
    "from   sklearn.model_selection import cross_val_score     # cross-validation \n",
    "import sklearn\n",
    "import numpy as np\n",
    "# setting pandas print options\n",
    "pd.set_option('display.max_rows', 500)\n",
    "pd.set_option('display.max_columns', 500)\n",
    "pd.set_option('display.width', 1000)\n",
    "\n",
    "# specifying file name\n",
    "file = \"Apprentice_Chef_Dataset.xlsx\"\n",
    "\n",
    "\n",
    "# reading the file into Python\n",
    "original_df = pd.read_excel(file)\n",
    "chef_org = original_df.copy()"
   ]
  },
  {
   "cell_type": "markdown",
   "metadata": {
    "deletable": false,
    "editable": false
   },
   "source": [
    "## Part 1: Exploratory Data Analysis (EDA)"
   ]
  },
  {
   "cell_type": "code",
   "execution_count": 2,
   "metadata": {
    "deletable": false,
    "editable": false
   },
   "outputs": [],
   "source": [
    "#################################################\n",
    "##########  User-Defined Functions    ###########\n",
    "#################################################\n",
    "\n",
    "# Defining function for distribution histograms\n",
    "def continuous_distributions(variable, data, bins = 'fd', kde = False, rug = False):\n",
    "    \"\"\"\n",
    "    This function can be used for continuous variables\n",
    "\n",
    "    PARAMETERS\n",
    "    ----------\n",
    "    variable : str, continuous variable\n",
    "    data     : DataFrame of the response and categorical variables.\n",
    "    bins     : argument for matplotlib hist(), optional. If unspecified, Freedman–Diaconis rule is used.\n",
    "    kde      : bool, optional, plot or not a kernel density estimate.  If unspecified, not calculated.\n",
    "    rug      : bool, optional, include a rug on plot or not. If unspecified, not shown.\n",
    "    \"\"\"\n",
    "\n",
    "    sns.distplot(data[variable],  \n",
    "                    bins  = bins,\n",
    "                    kde   = False,\n",
    "                    rug   = rug,\n",
    "                    color = 'g')\n",
    "    \n",
    "    plt.xlabel(variable)\n",
    "    plt.tight_layout()\n",
    "    plt.show()\n",
    "\n",
    "# Defining function to flag high outliers in variables\n",
    "def outlier_flag_hi(variable, threshold, data):\n",
    "    \"\"\"\n",
    "    This function is used to flag high outliers in a dataframe the variables' \n",
    "    outliers by creating a new column that is preceded by 'out_'.\n",
    "\n",
    "    PARAMETERS\n",
    "    ----------\n",
    "    variable  : str, continuous variable.\n",
    "    threshold : float, value that will identify where outliers would be.\n",
    "    data      : dataframe, where the variables are located.\n",
    "    \n",
    "    \"\"\"\n",
    "    # creating a new column\n",
    "    data['out_' + variable] = 0\n",
    "        \n",
    "    # defining outlier condition\n",
    "    high = data.loc[0:,'out_' + variable][data[variable] > threshold]\n",
    "        \n",
    "    # imputing 1 inside flag column\n",
    "    data['out_' + variable].replace(to_replace = high,\n",
    "                                    value   = 1,\n",
    "                                    inplace = True)\n",
    "\n",
    "    \n",
    "\n",
    "\n",
    "# Defining function to flag high outliers in variables\n",
    "def outlier_flag_lo(variable, threshold, data):\n",
    "    \"\"\"\n",
    "    This function is used to flag low outliers in a dataframe the variables' \n",
    "    outliers by creating a new column that is preceded by 'out_'.\n",
    "\n",
    "    PARAMETERS\n",
    "    ----------\n",
    "    variable  : str, continuous variable.\n",
    "    threshold : float, value that will identify where outliers would be.\n",
    "    data      : dataframe, where the variables are located.\n",
    "    \n",
    "    \"\"\"\n",
    "    # creating a new column\n",
    "    data['out_' + variable] = 0\n",
    "        \n",
    "    # defining outlier condition\n",
    "    low = data.loc[0:,'out_' + variable][data[variable] < threshold]\n",
    "        \n",
    "    # imputing 1 inside flag column\n",
    "    data['out_' + variable].replace(to_replace = low,\n",
    "                                    value   = 1,\n",
    "                                    inplace = True)\n",
    "    \n",
    "\n",
    "# Defining function for relationship scatterplots\n",
    "def scatterplots(independ_var, target_var, data, color = 'g'):\n",
    "    \"\"\"\n",
    "    This function can be used for continuous variables\n",
    "\n",
    "    PARAMETERS\n",
    "    ----------\n",
    "    independ_var : str, continuous variable\n",
    "    target_var : str, continuous variable we are trying to predict\n",
    "    data       : DataFrame of the response and categorical variables.\n",
    "    color      : str, optional. If unspecified, green color is used.\n",
    "    \"\"\"\n",
    "\n",
    "    sns.scatterplot(x = data[independ_var],\n",
    "                    y = data[target_var],\n",
    "                    color = color)\n",
    "    plt.xlabel(independ_var)\n",
    "    plt.tight_layout()\n",
    "    plt.show()\n",
    "\n",
    "\n",
    "# Defining function to flag higher variables\n",
    "def higher_change_flag(variable, index, threshold, data):\n",
    "    \"\"\"\n",
    "    This function is used to flag in a dataframe the variables' trend changes above a threshold by creating\n",
    "    a new column that is preceded by 'change_'.\n",
    "\n",
    "    PARAMETERS\n",
    "    ----------\n",
    "    variable  : str, continuous variable.\n",
    "    threshold : float, value that will identify after which the trend on variable y changes\n",
    "    data      : dataframe, where the variables are located.\n",
    "    \n",
    "    \"\"\"\n",
    "    new_column = 'change_' + variable + \"_\" + str(index)\n",
    "    \n",
    "    # creating a new column\n",
    "    data[new_column] = 0\n",
    "        \n",
    "    # defining outlier condition\n",
    "    high = data.loc[0:,new_column][data[variable] > threshold]\n",
    "        \n",
    "    # imputing 1 inside flag column\n",
    "    data[new_column].replace(to_replace = high,\n",
    "                                       value   = 1,\n",
    "                                       inplace = True)\n",
    "    \n",
    "\n",
    "    \n",
    "# Defining function to flag change at variables\n",
    "def at_flag(variable, index, threshold, data):\n",
    "    \"\"\"\n",
    "    This function is used to flag in a dataframe the variables' trend changes at a threshold by creating\n",
    "    a new column that is preceded by 'change_'.\n",
    "\n",
    "    PARAMETERS\n",
    "    ----------\n",
    "    variable  : str, continuous variable.\n",
    "    threshold : float, value that will identify after which the trend on variable y changes\n",
    "    data      : dataframe, where the variables are located.\n",
    "    \n",
    "    \"\"\"\n",
    "    new_column = 'change_' + variable + \"_\" + str(index)\n",
    "    \n",
    "    # creating a new column\n",
    "    data[new_column] = 0\n",
    "        \n",
    "    # defining outlier condition\n",
    "    high = data.loc[0:,new_column][data[variable] == threshold]\n",
    "        \n",
    "    # imputing 1 inside flag column\n",
    "    data[new_column].replace(to_replace = high,\n",
    "                                       value   = 1,\n",
    "                                       inplace = True)\n",
    "    \n"
   ]
  },
  {
   "cell_type": "code",
   "execution_count": 3,
   "metadata": {
    "deletable": false,
    "editable": false,
    "scrolled": true
   },
   "outputs": [],
   "source": [
    "# Printing information on our dataset and its columns\n",
    "# pulling up data dictionary\n",
    "chef_description = pd.read_excel('Apprentice_Chef_Data_Dictionary.xlsx')\n",
    "\n",
    "# Displaying:\n",
    "#chef_description\n",
    "#chef_org.info()\n",
    "#chef_org.describe()\n"
   ]
  },
  {
   "cell_type": "markdown",
   "metadata": {
    "deletable": false,
    "editable": false
   },
   "source": [
    "<strong> Observations: </strong>\n",
    "- Data types are coherent with each variable description\n",
    "- 47 missing values in Family Name\n",
    "- Number of observations: 1946\n",
    "- Total of 28 variables (including target variable) where:\n",
    "    - 3 are floats\n",
    "    - 22 are integers\n",
    "    - 4 are objects"
   ]
  },
  {
   "cell_type": "markdown",
   "metadata": {
    "deletable": false,
    "editable": false
   },
   "source": [
    "<strong> Step 1: </strong> Classifying our variables based on variable types:"
   ]
  },
  {
   "cell_type": "code",
   "execution_count": 4,
   "metadata": {
    "deletable": false,
    "editable": false
   },
   "outputs": [],
   "source": [
    "\"\"\"\n",
    "# CONTINUOUS OR INTERVAL\n",
    "REVENUE                     \n",
    "AVG_TIME_PER_SITE_VISIT        \n",
    "FOLLOWED_RECOMMENDATIONS_PCT\n",
    "AVG_PREP_VID_TIME\n",
    "LARGEST_ORDER_SIZE\n",
    "MEDIAN_MEAL_RATING             (interval)\n",
    "AVG_CLICKS_PER_VISIT\n",
    "\n",
    "# BINARY\n",
    "CROSS_SELL_SUCCESS     (target variable)\n",
    "MOBILE_NUMBER          (also categorical)\n",
    "TASTES_AND_PREFERENCES (also categorical)\n",
    "PACKAGE_LOCKER         (also categorical)\n",
    "REFRIGERATED_LOCKER    (also categorical)\n",
    "\n",
    "# COUNT\n",
    "TOTAL_MEALS_ORDERED\n",
    "UNIQUE_MEALS_PURCH\n",
    "CONTACTS_W_CUSTOMER_SERVICE\n",
    "PRODUCT_CATEGORIES_VIEWED\n",
    "CANCELLATIONS_BEFORE_NOON\n",
    "CANCELLATIONS_AFTER_NOON\n",
    "MOBILE_LOGINS\n",
    "PC_LOGINS\n",
    "WEEKLY_PLAN\n",
    "EARLY_DELIVERIES\n",
    "LATE_DELIVERIES\n",
    "MASTER_CLASSES_ATTENDED\n",
    "TOTAL_PHOTOS_VIEWED\n",
    "\n",
    "# CATEGORICAL\n",
    "CROSS_SELL_SUCCESS     (also binary)\n",
    "MOBILE_NUMBER          (also binary)\n",
    "TASTES_AND_PREFERENCES (also binary)\n",
    "PACKAGE_LOCKER         (also binary)\n",
    "REFRIGERATED_LOCKER    (also binary)\n",
    "\n",
    "# DISCRETE\n",
    "NAME\n",
    "EMAIL\n",
    "FIRST_NAME\n",
    "FAMILY_NAME\n",
    "\n",
    "\"\"\"\n",
    "categorical = ['CROSS_SELL_SUCCESS',\n",
    "               'MOBILE_NUMBER',\n",
    "               'TASTES_AND_PREFERENCES',\n",
    "               'PACKAGE_LOCKER',\n",
    "               'REFRIGERATED_LOCKER']\n",
    "\n",
    "continuous = ['REVENUE',\n",
    "              'AVG_TIME_PER_SITE_VISIT',\n",
    "              'FOLLOWED_RECOMMENDATIONS_PCT',\n",
    "              'AVG_PREP_VID_TIME',\n",
    "              'LARGEST_ORDER_SIZE',\n",
    "              'MEDIAN_MEAL_RATING',\n",
    "              'AVG_CLICKS_PER_VISIT']\n",
    "\n",
    "counts = ['TOTAL_MEALS_ORDERED',\n",
    "          'UNIQUE_MEALS_PURCH',\n",
    "          'CONTACTS_W_CUSTOMER_SERVICE',\n",
    "          'PRODUCT_CATEGORIES_VIEWED',\n",
    "          'CANCELLATIONS_BEFORE_NOON',\n",
    "          'CANCELLATIONS_AFTER_NOON',\n",
    "          'MOBILE_LOGINS',\n",
    "          'PC_LOGINS',\n",
    "          'WEEKLY_PLAN',\n",
    "          'EARLY_DELIVERIES',\n",
    "          'LATE_DELIVERIES',\n",
    "          'MASTER_CLASSES_ATTENDED',\n",
    "          'TOTAL_PHOTOS_VIEWED']"
   ]
  },
  {
   "cell_type": "markdown",
   "metadata": {
    "deletable": false,
    "editable": false
   },
   "source": [
    "### A) Missing Value Analysis and Imputation\n"
   ]
  },
  {
   "cell_type": "markdown",
   "metadata": {
    "deletable": false,
    "editable": false
   },
   "source": [
    "<strong> Step 2: </strong> Further investigating missing values"
   ]
  },
  {
   "cell_type": "code",
   "execution_count": 5,
   "metadata": {
    "deletable": false,
    "editable": false
   },
   "outputs": [],
   "source": [
    "# Inspecting missing values\n",
    "#chef_org.isnull().sum()\n",
    "#chef_org.loc[:,:][chef_org['FAMILY_NAME'].isna()]"
   ]
  },
  {
   "cell_type": "markdown",
   "metadata": {
    "deletable": false,
    "editable": false
   },
   "source": [
    "<strong>Observations: </strong>\n",
    "- Customers that have NA family name have parenthesis in names\n",
    "- Parenthesis seem to indicate either their role or their geographical location\n",
    "- Emails take the same format for last name \n",
    "<br><br>\n",
    "\n",
    "<strong> Conclusion: </strong> not enough information to impute last name, leave as NA and flag where they are since last name is a discrete variable that most probably will not bring insights to the purpose of this analysis."
   ]
  },
  {
   "cell_type": "code",
   "execution_count": 6,
   "metadata": {
    "deletable": false,
    "editable": false,
    "scrolled": true
   },
   "outputs": [],
   "source": [
    "# Flagging missing variables for FAMILY_NAME\n",
    "# creating a copy of dataframe for safety measures\n",
    "chef_m = chef_org.copy()\n",
    "\n",
    "# creating a new column where 1 indicates that observation has a missing family name\n",
    "chef_m['m_FAMILY_NAME'] = chef_m['FAMILY_NAME'].isnull().astype(int)"
   ]
  },
  {
   "cell_type": "markdown",
   "metadata": {
    "deletable": false,
    "editable": false
   },
   "source": [
    "### B) Categorical Variables - Sample Size Check\n"
   ]
  },
  {
   "cell_type": "markdown",
   "metadata": {
    "deletable": false,
    "editable": false
   },
   "source": [
    "<strong> Step 3: </strong> Checking for sample size for each of categorical/ binary variables. We need to see if the size of each of the categories is large enough to infer statistical significance or insignificance. If not, the variable could be insignificant to predict revenue when in reality its sample size is too small."
   ]
  },
  {
   "cell_type": "code",
   "execution_count": 7,
   "metadata": {},
   "outputs": [
    {
     "name": "stdout",
     "output_type": "stream",
     "text": [
      "CROSS_SELL_SUCCESS\n",
      "------\n",
      "1    1321\n",
      "0     625\n",
      "Name: CROSS_SELL_SUCCESS, dtype: int64\n",
      "          \n",
      "    \n",
      "MOBILE_NUMBER\n",
      "------\n",
      "1    1708\n",
      "0     238\n",
      "Name: MOBILE_NUMBER, dtype: int64\n",
      "          \n",
      "    \n",
      "TASTES_AND_PREFERENCES\n",
      "------\n",
      "1    1390\n",
      "0     556\n",
      "Name: TASTES_AND_PREFERENCES, dtype: int64\n",
      "          \n",
      "    \n",
      "PACKAGE_LOCKER\n",
      "------\n",
      "0    1255\n",
      "1     691\n",
      "Name: PACKAGE_LOCKER, dtype: int64\n",
      "          \n",
      "    \n",
      "REFRIGERATED_LOCKER\n",
      "------\n",
      "0    1726\n",
      "1     220\n",
      "Name: REFRIGERATED_LOCKER, dtype: int64\n",
      "          \n",
      "    \n"
     ]
    }
   ],
   "source": [
    "for variable in chef_org:\n",
    "    if variable in categorical:\n",
    "        print(f\"\"\"{variable}\n",
    "------\n",
    "{chef_org[variable].value_counts()}\n",
    "          \n",
    "    \"\"\")"
   ]
  },
  {
   "cell_type": "markdown",
   "metadata": {
    "deletable": false,
    "editable": false
   },
   "source": [
    "<strong> Observations: </strong>\n",
    "- Sample size for each option in all categorical variables are large enough for analysis (all contain above 200 observations)\n"
   ]
  },
  {
   "cell_type": "markdown",
   "metadata": {
    "deletable": false,
    "editable": false
   },
   "source": [
    "### C) Categorical Variables: Email Domains"
   ]
  },
  {
   "cell_type": "markdown",
   "metadata": {
    "deletable": false,
    "editable": false
   },
   "source": [
    "<strong> Purpose </strong>: email domains from clients can provide insight on which customers are more likely to open any email communications. For example, if the email used for subscription is a \"junk\" email, chances are this customer might look at the inbox as often as we would like, as opposed to a professional email address where the customer might be looking at it multiple times a day. This can lead to an affect in revenue since clients might order a meal through an advertisement or a discount. <br>\n",
    "<br> This steps first selects the email domain for each customer, then creates a new categorical variable where each domain is classified as \"personal\", \"professional\" or \"junk\". Finally, we will be one-hot encoding this new variable which will create three new columns for each email category. In these new columns, if an email corresponds to the column, that observation will take on the value 1."
   ]
  },
  {
   "cell_type": "code",
   "execution_count": 8,
   "metadata": {
    "deletable": false,
    "editable": false
   },
   "outputs": [],
   "source": [
    "# STEP 1: splitting emails\n",
    "# placeholder list\n",
    "placeholder_lst = []\n",
    "\n",
    "# looping over each email address\n",
    "for index, col in chef_org.iterrows():\n",
    "    \n",
    "    # splitting email domain at '@'\n",
    "    split_email = chef_m.loc[index, 'EMAIL'].split(sep = '@')\n",
    "\n",
    "    # appending placeholder_lst with the results\n",
    "    placeholder_lst.append(split_email)\n",
    "    \n",
    "# converting placeholder_lst into a DataFrame\n",
    "email_df = pd.DataFrame(placeholder_lst)\n",
    "\n",
    "# STEP 2: concatenating with original DataFrame\n",
    "# Creating a copy of chef for features and safety measure\n",
    "chef = chef_m.copy()\n",
    "\n",
    "# renaming column to concatenate\n",
    "email_df.columns = ['name' , 'EMAIL_DOMAIN'] \n",
    "\n",
    "# concatenating personal_email_domain with chef DataFrame\n",
    "chef = pd.concat([chef, email_df.loc[:, 'EMAIL_DOMAIN']], \n",
    "                   axis = 1)\n",
    "\n",
    "# printing value counts of personal_email_domain\n",
    "chef.loc[: ,'EMAIL_DOMAIN'].value_counts()\n",
    "\n",
    "# email domain types\n",
    "professional_email_domains = ['@mmm.com',         '@amex.com',\n",
    "                              '@apple.com',       '@boeing.com',\n",
    "                              '@caterpillar.com', '@chevron.com',\n",
    "                              '@cisco.com',       '@cocacola.com',\n",
    "                              '@disney.com',      '@dupont.com',\n",
    "                              '@exxon.com',       '@ge.org',\n",
    "                              '@goldmansacs.com', '@homedepot.com',\n",
    "                              '@ibm.com',         '@intel.com',\n",
    "                              '@jnj.com',         '@jpmorgan.com',\n",
    "                              '@mcdonalds.com',   '@merck.com',\n",
    "                              '@microsoft.com',   '@nike.com',\n",
    "                              '@pfizer.com',      '@pg.com',\n",
    "                              '@travelers.com',   '@unitedtech.com',\n",
    "                              '@unitedhealth.com','@verizon.com',\n",
    "                              '@visa.com',        '@walmart.com']\n",
    "personal_email_domains     = ['@gmail.com',       '@yahoo.com',    \n",
    "                              '@protonmail.com']\n",
    "junk_email_domains         = ['@me.com',          '@aol.com',\n",
    "                              '@hotmail.com',     '@live.com', \n",
    "                              '@msn.com',         '@passport.com']\n",
    "\n",
    "# placeholder list\n",
    "placeholder_lst = []  \n",
    "\n",
    "\n",
    "# looping to group observations by domain type\n",
    "for domain in chef['EMAIL_DOMAIN']:\n",
    "        if \"@\" + domain in professional_email_domains:\n",
    "            placeholder_lst.append('professional')\n",
    "            \n",
    "        elif \"@\" + domain in personal_email_domains:\n",
    "            placeholder_lst.append('personal')\n",
    "            \n",
    "        elif \"@\" + domain in junk_email_domains:\n",
    "            placeholder_lst.append('junk')\n",
    "            \n",
    "        else:\n",
    "            print('Unknown')\n",
    "\n",
    "\n",
    "# concatenating with original DataFrame\n",
    "chef['email_domain_group'] = pd.Series(placeholder_lst)\n",
    "\n",
    "# checking results and sample size\n",
    "#print(chef['email_domain_group'].value_counts())\n",
    "\n",
    "# Step 3: One-Hot encoding\n",
    "one_hot_email_domain = pd.get_dummies(chef['email_domain_group'])\n",
    "\n",
    "# dropping orginal columns to keep only encoded ones\n",
    "chef_1               = chef.drop(['email_domain_group','EMAIL','EMAIL_DOMAIN'], axis = 1)\n",
    "\n",
    "# joining encoded columns to dataset\n",
    "chef_1               = chef_1.join(one_hot_email_domain)\n",
    "\n",
    "# including new categorical variables to list\n",
    "domains              = ['professional','personal','junk']\n",
    "categorical          = categorical + domains\n"
   ]
  },
  {
   "cell_type": "markdown",
   "metadata": {
    "deletable": false,
    "editable": false
   },
   "source": [
    "### D) Continuous Variables: Outliers Detection"
   ]
  },
  {
   "cell_type": "markdown",
   "metadata": {
    "deletable": false,
    "editable": false
   },
   "source": [
    "<strong> Purpose: </strong> Outliers affect most predictive models. It increases variance in a variable, and therefore need to be flagged for two main reasons: <br> <br>\n",
    "1) Using outlier flag variable in our model quantifies the affect of that outlier on the variable we are trying to predict (in this case, revenue) <br>\n",
    "2) In some cases, removing outliers can improve our predictions and increase generalization of our model <br> <br>\n",
    "\n",
    "<nbsp> <nbsp> <nbsp> <nbsp>  In the following code, we visualize each variable's distribution with an user-defined function and we look at the quartile ranges using descriptive statistics. We then set thresholds which will determine which observations are going to be considered as outliers in this analysis. Finally, we create a new column for each of the variables that contain outliers, where a 1 will be imputed for outlier observations. <br><br>\n",
    "<i> Note: no outliers are removed in the part of the analysis <i> <br><br>"
   ]
  },
  {
   "cell_type": "code",
   "execution_count": 9,
   "metadata": {
    "deletable": false,
    "editable": false
   },
   "outputs": [],
   "source": [
    "# Visualizing continuous variable distributions\n",
    "#for variable in continuous:\n",
    "#    continuous_distributions(variable, chef_org, bins = 'fd', kde = True, rug = False)"
   ]
  },
  {
   "cell_type": "code",
   "execution_count": 10,
   "metadata": {
    "deletable": false,
    "editable": false
   },
   "outputs": [],
   "source": [
    "#chef_org[continuous].describe()"
   ]
  },
  {
   "cell_type": "markdown",
   "metadata": {
    "deletable": false,
    "editable": false
   },
   "source": [
    "<strong> Observations:</strong>\n",
    "- Revenue:\n",
    "    - big dip in clients with revenue at approx 2,000 \n",
    "\n",
    "- Avg Time per Site Visit (in seconds):\n",
    "    - almost a normal distribution\n",
    "    - outliers after 200 (3.3 min)\n",
    "    \n",
    "- Followed Recommendations Percentage:\n",
    "    - outliers after 80%\n",
    "    \n",
    "- Average Preparation Video Time (in seconds):\n",
    "    - almost a normal distribution\n",
    "    - outliers after 250 (approx 4 min)\n",
    "    \n",
    "- Largest Order Size:\n",
    "    - almost normal distribution \n",
    "    - after 5: a family is usually 4 - 5 people, more than that it could be that these customers are throwing dinner parties or keeping the meals for the next day\n",
    "\n",
    "- Median Meal Rating:\n",
    "    - peak on 3\n",
    "    - no obvious outliers\n",
    "\n",
    "- Average Clicks per visit:\n",
    "    - outliers before 10\n"
   ]
  },
  {
   "cell_type": "code",
   "execution_count": 11,
   "metadata": {
    "deletable": false,
    "editable": false,
    "scrolled": true
   },
   "outputs": [],
   "source": [
    "## Visualizing count variable distributions\n",
    "#for variable in counts:\n",
    "#    continuous_distributions(variable, chef_org, bins = 'auto',kde = False, rug = False)"
   ]
  },
  {
   "cell_type": "markdown",
   "metadata": {
    "deletable": false,
    "editable": false
   },
   "source": [
    "<strong> Observations: </strong>\n",
    "\n",
    "- Total Meals Ordered:\n",
    "    - strong dip in around 25 - investigate\n",
    "    - outliers after 320\n",
    "    \n",
    "- Unique Meals Purchased:\n",
    "    - outliers after 10\n",
    "    \n",
    "- Contacts with customer service:\n",
    "    - outliers after 13\n",
    "    \n",
    "- Product Categories Viewed:\n",
    "    - no obvious outliers\n",
    "    \n",
    "- Cancellations Before Noon:\n",
    "    - approx exponential distribution\n",
    "    - outliers after 8\n",
    "   \n",
    "- Cancellations After Noon:\n",
    "    - no obvious outliers\n",
    "    \n",
    "- Mobile Log-ins:\n",
    "    - no obvious outliers\n",
    "    \n",
    "- PC Log-ins:\n",
    "   - no obvious outliers\n",
    "\n",
    "- Weekly Plan:\n",
    "    - no obvious outliers\n",
    "\n",
    "- Early Deliveries:\n",
    "    - peak on 0\n",
    "    - no obvious outliers\n",
    "\n",
    "- Late Deliveries:\n",
    "    - outliers after 17\n",
    "    \n",
    "- Master Class Attended:\n",
    "    - no obvious outliers\n",
    "    \n",
    "- Total Photos Viewed:\n",
    "    - peak on 0\n",
    "    - outliers after 800\n",
    "\n"
   ]
  },
  {
   "cell_type": "code",
   "execution_count": 12,
   "metadata": {
    "deletable": false,
    "editable": false
   },
   "outputs": [],
   "source": [
    "# Establishing outliers thresholds for analysis\n",
    "# Continous\n",
    "avg_time_per_site_visit_hi = 200\n",
    "avg_prep_vid_time_hi       = 250\n",
    "followed_rec_hi            = 80\n",
    "largest_order_size_hi      = 5\n",
    "avg_clicks_per_visit_lo    = 10\n",
    "\n",
    "\n",
    "\n",
    "# Counts:\n",
    "total_meals_ordered_hi            = 320\n",
    "unique_meals_purchased_hi         = 10\n",
    "contacts_with_customer_service_hi = 13\n",
    "cancellations_before_noon_hi      = 8\n",
    "late_deliveries_hi                = 17\n",
    "total_photos_viewed_hi            = 800\n",
    "\n",
    "# Target Variable\n",
    "revenue_hi  =  5500\n",
    "\n",
    "\n",
    "# Creating Dictionary to link variables with outlier thresholds\n",
    "lst_thresholds_hi = {\n",
    "    'AVG_TIME_PER_SITE_VISIT'      : avg_time_per_site_visit_hi,\n",
    "    'AVG_PREP_VID_TIME'            : avg_prep_vid_time_hi,\n",
    "    'TOTAL_MEALS_ORDERED'          : total_meals_ordered_hi,\n",
    "    'UNIQUE_MEALS_PURCH'           : unique_meals_purchased_hi,\n",
    "    'CONTACTS_W_CUSTOMER_SERVICE'  : contacts_with_customer_service_hi,\n",
    "    'CANCELLATIONS_BEFORE_NOON'    : cancellations_before_noon_hi,\n",
    "    'LATE_DELIVERIES'              : late_deliveries_hi,\n",
    "    'TOTAL_PHOTOS_VIEWED'          : total_photos_viewed_hi,\n",
    "    'REVENUE'                      : revenue_hi,\n",
    "    'FOLLOWED_RECOMMENDATIONS_PCT' : followed_rec_hi,\n",
    "    'LARGEST_ORDER_SIZE'           : largest_order_size_hi\n",
    "    }\n",
    "\n",
    "lst_thresholds_lo = {\n",
    "     'AVG_CLICKS_PER_VISIT'         : avg_clicks_per_visit_lo\n",
    "     }"
   ]
  },
  {
   "cell_type": "code",
   "execution_count": 13,
   "metadata": {
    "deletable": false,
    "editable": false
   },
   "outputs": [],
   "source": [
    "# Looping over variables to create outlier flags:\n",
    "for key in lst_thresholds_hi.keys():\n",
    "    outlier_flag_hi(key,lst_thresholds_hi[key],chef_1)\n",
    "    \n",
    "for key in lst_thresholds_lo.keys():\n",
    "    outlier_flag_lo(key,lst_thresholds_lo[key],chef_1)"
   ]
  },
  {
   "cell_type": "markdown",
   "metadata": {
    "deletable": false,
    "editable": false
   },
   "source": [
    "### E) Continuous/ Count Variables: Trend-Based Features"
   ]
  },
  {
   "cell_type": "markdown",
   "metadata": {
    "deletable": false,
    "editable": false
   },
   "source": [
    "<strong> Purpose: </strong> Changes in variables behaviors in relation to our target variable can provide powerful explanations in our model as to how our revenue might be afftected. <br> \n",
    "\n",
    "<nbsp> <nbsp> <nbsp> <nbsp>  In the following code, we visualize each variable's relationship with revenue with an user-defined function. We then set thresholds which will determine which observations are going to be considered having a differing effect on our revenue. Finally, we create a new feature for each of the variables that contain this difference, where a 1 will be imputed for these observations. <br><br>\n"
   ]
  },
  {
   "cell_type": "code",
   "execution_count": 14,
   "metadata": {
    "deletable": false,
    "editable": false
   },
   "outputs": [],
   "source": [
    "# Defining dependent variables for trend analysis\n",
    "dependent_vars = [\n",
    "    'AVG_TIME_PER_SITE_VISIT',     'FOLLOWED_RECOMMENDATIONS_PCT',\n",
    "    'AVG_PREP_VID_TIME',           'LARGEST_ORDER_SIZE',\n",
    "    'MEDIAN_MEAL_RATING',          'AVG_CLICKS_PER_VISIT',\n",
    "    'TOTAL_MEALS_ORDERED',         'UNIQUE_MEALS_PURCH',\n",
    "    'CONTACTS_W_CUSTOMER_SERVICE', 'PRODUCT_CATEGORIES_VIEWED',\n",
    "    'CANCELLATIONS_BEFORE_NOON',   'CANCELLATIONS_AFTER_NOON',\n",
    "    'MOBILE_LOGINS',               'PC_LOGINS',\n",
    "    'WEEKLY_PLAN',                 'EARLY_DELIVERIES',\n",
    "    'LATE_DELIVERIES',             'MASTER_CLASSES_ATTENDED',\n",
    "    'TOTAL_PHOTOS_VIEWED'\n",
    "    ]"
   ]
  },
  {
   "cell_type": "code",
   "execution_count": 15,
   "metadata": {
    "deletable": false,
    "editable": false,
    "scrolled": true
   },
   "outputs": [],
   "source": [
    "# Visualizing dependent variable scatter plots in relation to Revenue\n",
    "#for variable in dependent_vars:\n",
    "#    scatterplots(independ_var = variable, target_var = 'REVENUE', data = chef_org, color = 'r')"
   ]
  },
  {
   "cell_type": "markdown",
   "metadata": {
    "deletable": false,
    "editable": false
   },
   "source": [
    "Observations:\n",
    "- AVG_TIME_PER_SITE_VISIT\n",
    "    - different at 50 seconds\n",
    "    - 50 seconds to 200 seconds: no trend changes\n",
    "    - data scatter after 200\n",
    "    - outlier at 1600\n",
    "- FOLLOWED_RECOMMENDATIONS_PCT\n",
    "    - more dispersed after 70 percent\n",
    "- AVG_PREP_VID_TIME\n",
    "    - more variance after 150s (how to flag this?)\n",
    "    - less variance after 210s\n",
    "    - after 300 less data points\n",
    "- LARGEST_ORDER_SIZE\n",
    "    - increase in revenue until 5\n",
    "    - decrease but less steep after 5\n",
    "- MEDIAN_MEAL_RATING\n",
    "    - inflated at 3 and 4\n",
    "\t   - decrease after 4\n",
    "- AVG_CLICKS_PER_VISIT\n",
    "    - less than 8 very few data points\n",
    "\t  -  increase in revenue until 10 clicks\n",
    "    - decrease after 10 until 15\n",
    "    - 16 to max constant\n",
    "- TOTAL_MEALS_ORDERED\n",
    "    - heteroskedasticity\n",
    "    - at 15 inflated\n",
    "    - increase at 100 \n",
    "    - slower increase after 100    \n",
    "- UNIQUE_MEALS_PURCH\n",
    "    - inflated at 1: people must be ordering the same thing all the time\n",
    "    - until 9 - constant\n",
    "    - after 10 - outliers\n",
    "- CONTACTS_W_CUSTOMER_SERVICE\n",
    "    - until 10: revenue increases\n",
    "    - after 10: revenue decreases\n",
    "- PRODUCT_CATEGORIES_VIEWED\n",
    "    - until 5 slow decrease\n",
    "    - after 5 more constant\n",
    "- CANCELLATIONS_BEFORE_NOON\n",
    "    - after 8\n",
    "- CANCELLATIONS_AFTER_NOON\n",
    "    - zero inflated\n",
    "    - at 3 - few observations with big revenue variance\n",
    "- MOBILE_LOGINS\n",
    "    - 0 and 1 are increase\n",
    "    - 2 and 3 decrease\n",
    "- PC_LOGINS\n",
    "    - 4 to 6 increase\n",
    "    - 7 decrease\n",
    "- WEEKLY_PLAN\n",
    "    - after 15 seems to be a decrease\n",
    "    - constant after that\n",
    "- EARLY_DELIVERIES\n",
    "    - no obvious trend changes (does not seem to be a problem)\n",
    "- LATE_DELIVERIES\n",
    "    - decrease until 8\n",
    "- MASTER_CLASSES_ATTENDED\n",
    "    - at 1\n",
    "    - at 2: less\n",
    "- TOTAL_PHOTOS_VIEWED\n",
    "    - 0 inflated"
   ]
  },
  {
   "cell_type": "code",
   "execution_count": 16,
   "metadata": {
    "deletable": false,
    "editable": false
   },
   "outputs": [],
   "source": [
    "# Establishing outliers thresholds for analysis\n",
    "# data scatters above this point\n",
    "AVG_TIME_PER_SITE_VISIT_change_hi      = 200\n",
    "FOLLOWED_RECOMMENDATIONS_PCT_change_hi = 70\n",
    "AVG_PREP_VID_TIME_change_lo            = 150\n",
    "AVG_PREP_VID_TIME_change_hi            = 210\n",
    "TOTAL_MEALS_ORDERED_change_hi          = 100\n",
    "\n",
    "# trend changes\n",
    "LARGEST_ORDER_SIZE_change_hi          = 5\n",
    "AVG_CLICKS_PER_VISIT_change_lo        = 8\n",
    "AVG_CLICKS_PER_VISIT_change_hi        = 16\n",
    "UNIQUE_MEALS_PURCH_change_hi          = 9\n",
    "CONTACTS_W_CUSTOMER_SERVICE_change_hi = 10\n",
    "PRODUCT_CATEGORIES_VIEWED_change_hi   = 5\n",
    "CANCELLATIONS_BEFORE_NOON_change_hi   = 8\n",
    "MOBILE_LOGINS_change_hi               = 1\n",
    "PC_LOGINS_change_hi                   = 6\n",
    "WEEKLY_PLAN_change_hi                 = 15\n",
    "LATE_DELIVERIES_change_lo             = 8\n",
    "TOTAL_MEALS_ORDERED_change_hi         = 100\n",
    "\n",
    "\n",
    "# Different at __ \n",
    "AVG_TIME_PER_SITE_VISIT_change_at  = 50\n",
    "MEDIAN_MEAL_RATING_change_at1      = 3\n",
    "MEDIAN_MEAL_RATING_change_at2      = 4\n",
    "MEDIAN_MEAL_RATING_change_at3      = 5\n",
    "TOTAL_MEALS_ORDERED_change_at      = 15\n",
    "UNIQUE_MEALS_PURCH_change_at       = 1\n",
    "CANCELLATIONS_AFTER_NOON_change_at = 0\n",
    "MASTER_CLASSES_ATTENDED_change_at1  = 1\n",
    "MASTER_CLASSES_ATTENDED_change_at2  = 2\n",
    "\n",
    "\n",
    "# Zero Inflated\n",
    "TOTAL_PHOTOS_VIEWED_change_at = 0 \n",
    "\n",
    "\n",
    "# Creating Dictionary to link variables with trend thresholds\n",
    "high_thresholds = {\n",
    "    'AVG_TIME_PER_SITE_VISIT'        : [AVG_TIME_PER_SITE_VISIT_change_hi],\n",
    "    'FOLLOWED_RECOMMENDATIONS_PCT'   : [FOLLOWED_RECOMMENDATIONS_PCT_change_hi],\n",
    "    'AVG_PREP_VID_TIME'              : [AVG_PREP_VID_TIME_change_hi,\n",
    "                                        AVG_PREP_VID_TIME_change_lo],\n",
    "    'TOTAL_MEALS_ORDERED'            : [TOTAL_MEALS_ORDERED_change_hi],\n",
    "    'LARGEST_ORDER_SIZE'             : [LARGEST_ORDER_SIZE_change_hi],\n",
    "    'AVG_CLICKS_PER_VISIT'           : [AVG_CLICKS_PER_VISIT_change_lo, \n",
    "                                        AVG_CLICKS_PER_VISIT_change_hi],\n",
    "    'UNIQUE_MEALS_PURCH'             : [UNIQUE_MEALS_PURCH_change_hi],\n",
    "    'CONTACTS_W_CUSTOMER_SERVICE'    : [CONTACTS_W_CUSTOMER_SERVICE_change_hi],\n",
    "    'PRODUCT_CATEGORIES_VIEWED'      : [PRODUCT_CATEGORIES_VIEWED_change_hi],\n",
    "    'CANCELLATIONS_BEFORE_NOON'      : [CANCELLATIONS_BEFORE_NOON_change_hi],\n",
    "    'MOBILE_LOGINS'                  : [MOBILE_LOGINS_change_hi],\n",
    "    'PC_LOGINS'                      : [PC_LOGINS_change_hi],\n",
    "    'WEEKLY_PLAN'                    : [WEEKLY_PLAN_change_hi],\n",
    "    'LATE_DELIVERIES'                : [LATE_DELIVERIES_change_lo],\n",
    "    'TOTAL_MEALS_ORDERED'            : [TOTAL_MEALS_ORDERED_change_hi]\n",
    "    }\n",
    "                     \n",
    "                     \n",
    "at_thresholds = {\n",
    "    'AVG_TIME_PER_SITE_VISIT'      : [AVG_TIME_PER_SITE_VISIT_change_at],\n",
    "    'MEDIAN_MEAL_RATING'           : [MEDIAN_MEAL_RATING_change_at1, \n",
    "                                       MEDIAN_MEAL_RATING_change_at2, \n",
    "                                       MEDIAN_MEAL_RATING_change_at3],\n",
    "    'UNIQUE_MEALS_PURCH'           : [UNIQUE_MEALS_PURCH_change_at],\n",
    "    'CANCELLATIONS_BEFORE_NOON'    : [CANCELLATIONS_AFTER_NOON_change_at],\n",
    "    'MASTER_CLASSES_ATTENDED'      : [MASTER_CLASSES_ATTENDED_change_at1,\n",
    "                                       MASTER_CLASSES_ATTENDED_change_at2],\n",
    "    'TOTAL_PHOTOS_VIEWED'          : [TOTAL_PHOTOS_VIEWED_change_at]\n",
    "    }\n"
   ]
  },
  {
   "cell_type": "code",
   "execution_count": 17,
   "metadata": {
    "deletable": false,
    "editable": false,
    "scrolled": false
   },
   "outputs": [],
   "source": [
    "# Looping over dataset to create trend based columns\n",
    "for key, value in high_thresholds.items():\n",
    "    i = 0\n",
    "    for val in value:\n",
    "        higher_change_flag(key, i, val, chef_1)\n",
    "        i += 1\n",
    "\n",
    "for key, value in at_thresholds.items():\n",
    "    i = 0\n",
    "    for val in value:\n",
    "        at_flag(key, i, val, chef_1)\n",
    "        i += 1"
   ]
  },
  {
   "cell_type": "code",
   "execution_count": 18,
   "metadata": {
    "deletable": false,
    "editable": false
   },
   "outputs": [],
   "source": [
    "# Dropping variables after feature engineering\n",
    "## !! only run this cell once !! ##\n",
    "clean_chef = chef_1.drop([\n",
    "                          'CROSS_SELL_SUCCESS',\n",
    "                          'NAME',\n",
    "                          'FIRST_NAME',\n",
    "                          'FAMILY_NAME',\n",
    "                          'm_FAMILY_NAME'\n",
    "                         ], axis = 1)"
   ]
  },
  {
   "cell_type": "markdown",
   "metadata": {
    "deletable": false,
    "editable": false
   },
   "source": [
    "## Part II: Transformations"
   ]
  },
  {
   "cell_type": "markdown",
   "metadata": {
    "deletable": false,
    "editable": false
   },
   "source": [
    "<strong> Purpose: </strong> In preparation for modeling, it is important to prepare our dataset to the different modeling techniques by using transformation. <br> \n",
    "- Explanatory variables: <strong> standardization </strong> is going to be applied to our dependent variables. This is important for models that use distance (variance) to predict the target variable, revenue. By standardizing, we ensure that all dependent variables are on the same scale and can be compared easily. \n",
    "\n",
    "- Target Variable: <strong> logarithmic </strong> is going to be applied to our independent variable. The distribution of revenue is skewed to the right. By treating this skewness with a log transformation, we normalize the magnitude of smaller and larger variables. In other words, lower revenues are expanded in our analysis and higher revenues are compressed. In addition, this transformation will decrease the effects of outliers which increases the application of any model to new unseen data.\n",
    "<br>\n",
    "<i> Note: log transformations require non-zero values </i><br><br>\n",
    "sources: <br>\n",
    "<a> https://towardsdatascience.com/feature-engineering-for-machine-learning-3a5e293a5114 <br>\n",
    "<a> https://www.r-statistics.com/2013/05/log-transformations-for-skewed-and-wide-distributions-from-practical-data-science-with-r/ \n"
   ]
  },
  {
   "cell_type": "code",
   "execution_count": 19,
   "metadata": {
    "deletable": false,
    "editable": false
   },
   "outputs": [],
   "source": [
    "#Defining a function to standardize numerical variables in the dataset:\n",
    "\n",
    "def standard(num_df):\n",
    "    \"\"\"\n",
    "    This function standardizes a dataframe that contains variables which are either\n",
    "    integers or floats.\n",
    "    \n",
    "    ------\n",
    "    num_df : DataFrame, must contain only numerical variables\n",
    "    \n",
    "    \"\"\"\n",
    "    # Isolating target variable from DF to be standardized\n",
    "    #num_df = num_df.drop(target_variable, axis = 1)\n",
    "    \n",
    "    # INSTANTIATING a StandardScaler() object\n",
    "    scaler = StandardScaler()\n",
    "\n",
    "    # FITTING the scaler with housing_data\n",
    "    scaler.fit(num_df)\n",
    "\n",
    "    # TRANSFORMING our data after fit\n",
    "    X_scaled = scaler.transform(num_df)\n",
    "\n",
    "    # converting scaled data into a DataFrame\n",
    "    X_scaled_df = pd.DataFrame(X_scaled)\n",
    "    \n",
    "    # adding labels to the scaled DataFrame\n",
    "    X_scaled_df.columns = num_df.columns\n",
    "    \n",
    "    # Re-attaching target variable to DataFrame\n",
    "    #X_scaled_df = X_scaled_df.join(target_variable)\n",
    "    \n",
    "    # returning the standardized data frame into the global environment\n",
    "    return X_scaled_df\n",
    "\n"
   ]
  },
  {
   "cell_type": "code",
   "execution_count": 20,
   "metadata": {
    "deletable": false,
    "editable": false,
    "scrolled": true
   },
   "outputs": [],
   "source": [
    "# Log Transformation\n",
    "# creating a copy for safety measures\n",
    "clean_chef = clean_chef.copy()\n",
    "\n",
    "#transforming only REVENUE column\n",
    "clean_chef['rev_log'] = clean_chef['REVENUE'].transform(np.log)\n"
   ]
  },
  {
   "cell_type": "code",
   "execution_count": 21,
   "metadata": {
    "deletable": false,
    "editable": false,
    "scrolled": true
   },
   "outputs": [],
   "source": [
    "# Standardization\n",
    "# creating a copy for safety measures\n",
    "clean_chef = clean_chef.copy()\n",
    "\n",
    "# dropping revenue from standardization\n",
    "chef_x      = clean_chef.drop(['REVENUE','rev_log'], axis = 1)\n",
    "#clean_chef.columns\n",
    "chef_target = clean_chef.loc[:,['REVENUE','rev_log']]\n",
    "\n",
    "# standardizing with user defined function and joining target revenue\n",
    "chef_std   = standard(chef_x).join(chef_target)"
   ]
  },
  {
   "cell_type": "markdown",
   "metadata": {
    "deletable": false,
    "editable": false
   },
   "source": [
    "## Part III: Modelling"
   ]
  },
  {
   "cell_type": "markdown",
   "metadata": {
    "deletable": false,
    "editable": false
   },
   "source": [
    "<strong> Purpose: </strong> Find a model that can predict a new customer's revenue."
   ]
  },
  {
   "cell_type": "code",
   "execution_count": 22,
   "metadata": {
    "deletable": false,
    "editable": false
   },
   "outputs": [],
   "source": [
    "# Defining a dictionary with variables names for each different model test\n",
    "\n",
    "variables_dict = {\n",
    "    \"Base\" : [ # will only work with chef_org\n",
    "        'REVENUE', 'CROSS_SELL_SUCCESS', 'NAME', 'EMAIL', 'FIRST_NAME', \n",
    "        'FAMILY_NAME', 'TOTAL_MEALS_ORDERED', 'UNIQUE_MEALS_PURCH', \n",
    "        'CONTACTS_W_CUSTOMER_SERVICE', 'PRODUCT_CATEGORIES_VIEWED', \n",
    "        'AVG_TIME_PER_SITE_VISIT', 'MOBILE_NUMBER', 'CANCELLATIONS_BEFORE_NOON',\n",
    "        'CANCELLATIONS_AFTER_NOON', 'TASTES_AND_PREFERENCES', 'PC_LOGINS',\n",
    "        'MOBILE_LOGINS', 'WEEKLY_PLAN', 'EARLY_DELIVERIES', 'LATE_DELIVERIES', \n",
    "        'PACKAGE_LOCKER', 'REFRIGERATED_LOCKER', 'FOLLOWED_RECOMMENDATIONS_PCT',\n",
    "        'AVG_PREP_VID_TIME', 'LARGEST_ORDER_SIZE', 'MASTER_CLASSES_ATTENDED',\n",
    "        'MEDIAN_MEAL_RATING', 'AVG_CLICKS_PER_VISIT', 'TOTAL_PHOTOS_VIEWED'\n",
    "    ],\n",
    "    \"Full_Features\" : [\n",
    "        'REVENUE', 'TOTAL_MEALS_ORDERED', 'UNIQUE_MEALS_PURCH', \n",
    "        'CONTACTS_W_CUSTOMER_SERVICE', 'PRODUCT_CATEGORIES_VIEWED', \n",
    "        'AVG_TIME_PER_SITE_VISIT', 'MOBILE_NUMBER', 'CANCELLATIONS_BEFORE_NOON',\n",
    "        'CANCELLATIONS_AFTER_NOON', 'TASTES_AND_PREFERENCES', 'PC_LOGINS', \n",
    "        'MOBILE_LOGINS', 'WEEKLY_PLAN', 'EARLY_DELIVERIES', 'LATE_DELIVERIES', \n",
    "        'PACKAGE_LOCKER', 'REFRIGERATED_LOCKER', 'FOLLOWED_RECOMMENDATIONS_PCT',\n",
    "        'AVG_PREP_VID_TIME', 'LARGEST_ORDER_SIZE', 'MASTER_CLASSES_ATTENDED', \n",
    "        'MEDIAN_MEAL_RATING', 'AVG_CLICKS_PER_VISIT', 'TOTAL_PHOTOS_VIEWED', \n",
    "        'junk', 'personal', 'professional', 'out_AVG_TIME_PER_SITE_VISIT', \n",
    "        'out_AVG_PREP_VID_TIME', 'out_TOTAL_MEALS_ORDERED', 'out_UNIQUE_MEALS_PURCH', \n",
    "        'out_CONTACTS_W_CUSTOMER_SERVICE', 'out_CANCELLATIONS_BEFORE_NOON', \n",
    "        'out_LATE_DELIVERIES', 'out_TOTAL_PHOTOS_VIEWED', 'out_REVENUE', \n",
    "        'out_FOLLOWED_RECOMMENDATIONS_PCT', 'out_LARGEST_ORDER_SIZE',\n",
    "        'out_AVG_CLICKS_PER_VISIT', 'change_AVG_TIME_PER_SITE_VISIT_0',\n",
    "        'change_FOLLOWED_RECOMMENDATIONS_PCT_0','change_AVG_PREP_VID_TIME_0',\n",
    "        'change_AVG_PREP_VID_TIME_1', 'change_TOTAL_MEALS_ORDERED_0',\n",
    "        'change_LARGEST_ORDER_SIZE_0', 'change_AVG_CLICKS_PER_VISIT_0',\n",
    "        'change_AVG_CLICKS_PER_VISIT_1', 'change_UNIQUE_MEALS_PURCH_0', \n",
    "        'change_CONTACTS_W_CUSTOMER_SERVICE_0', 'change_PRODUCT_CATEGORIES_VIEWED_0',\n",
    "        'change_CANCELLATIONS_BEFORE_NOON_0', 'change_MOBILE_LOGINS_0',\n",
    "        'change_PC_LOGINS_0', 'change_WEEKLY_PLAN_0', 'change_LATE_DELIVERIES_0', \n",
    "        'change_MEDIAN_MEAL_RATING_0', 'change_MEDIAN_MEAL_RATING_1',\n",
    "        'change_MEDIAN_MEAL_RATING_2', 'change_MASTER_CLASSES_ATTENDED_0',\n",
    "        'change_MASTER_CLASSES_ATTENDED_1', 'change_TOTAL_PHOTOS_VIEWED_0'\n",
    "    ],\n",
    "    \"LinearReg Features\" : [\n",
    "        'TOTAL_MEALS_ORDERED', 'CONTACTS_W_CUSTOMER_SERVICE', 'AVG_PREP_VID_TIME',\n",
    "        'LARGEST_ORDER_SIZE', 'TOTAL_PHOTOS_VIEWED',\n",
    "        'change_AVG_TIME_PER_SITE_VISIT_0',  \n",
    "        'change_UNIQUE_MEALS_PURCH_0', 'change_CONTACTS_W_CUSTOMER_SERVICE_0',\n",
    "        'change_MEDIAN_MEAL_RATING_1','change_MASTER_CLASSES_ATTENDED_0',\n",
    "        'change_MASTER_CLASSES_ATTENDED_1'\n",
    "    ],\n",
    "    \"Log Revenue Features\" : [\n",
    "        'REVENUE', 'TOTAL_MEALS_ORDERED', 'UNIQUE_MEALS_PURCH', \n",
    "        'CONTACTS_W_CUSTOMER_SERVICE', 'PRODUCT_CATEGORIES_VIEWED', \n",
    "        'AVG_TIME_PER_SITE_VISIT', 'MOBILE_NUMBER', 'CANCELLATIONS_BEFORE_NOON',\n",
    "        'CANCELLATIONS_AFTER_NOON', 'TASTES_AND_PREFERENCES', 'PC_LOGINS', \n",
    "        'MOBILE_LOGINS', 'WEEKLY_PLAN', 'EARLY_DELIVERIES', 'LATE_DELIVERIES', \n",
    "        'PACKAGE_LOCKER', 'REFRIGERATED_LOCKER', 'FOLLOWED_RECOMMENDATIONS_PCT',\n",
    "        'AVG_PREP_VID_TIME', 'LARGEST_ORDER_SIZE', 'MASTER_CLASSES_ATTENDED', \n",
    "        'MEDIAN_MEAL_RATING', 'AVG_CLICKS_PER_VISIT', 'TOTAL_PHOTOS_VIEWED', \n",
    "        'junk', 'personal', 'professional', 'out_AVG_TIME_PER_SITE_VISIT', \n",
    "        'out_AVG_PREP_VID_TIME', 'out_TOTAL_MEALS_ORDERED', 'out_UNIQUE_MEALS_PURCH', \n",
    "        'out_CONTACTS_W_CUSTOMER_SERVICE', 'out_CANCELLATIONS_BEFORE_NOON', \n",
    "        'out_LATE_DELIVERIES', 'out_TOTAL_PHOTOS_VIEWED', 'out_REVENUE', \n",
    "        'out_FOLLOWED_RECOMMENDATIONS_PCT', 'out_LARGEST_ORDER_SIZE',\n",
    "        'out_AVG_CLICKS_PER_VISIT', 'change_AVG_TIME_PER_SITE_VISIT_0',\n",
    "        'change_FOLLOWED_RECOMMENDATIONS_PCT_0','change_AVG_PREP_VID_TIME_0',\n",
    "        'change_AVG_PREP_VID_TIME_1', 'change_TOTAL_MEALS_ORDERED_0',\n",
    "        'change_LARGEST_ORDER_SIZE_0', 'change_AVG_CLICKS_PER_VISIT_0',\n",
    "        'change_AVG_CLICKS_PER_VISIT_1', 'change_UNIQUE_MEALS_PURCH_0', \n",
    "        'change_CONTACTS_W_CUSTOMER_SERVICE_0', 'change_PRODUCT_CATEGORIES_VIEWED_0',\n",
    "        'change_CANCELLATIONS_BEFORE_NOON_0', 'change_MOBILE_LOGINS_0',\n",
    "        'change_PC_LOGINS_0', 'change_WEEKLY_PLAN_0', 'change_LATE_DELIVERIES_0', \n",
    "        'change_MEDIAN_MEAL_RATING_0', 'change_MEDIAN_MEAL_RATING_1',\n",
    "        'change_MEDIAN_MEAL_RATING_2', 'change_MASTER_CLASSES_ATTENDED_0',\n",
    "        'change_MASTER_CLASSES_ATTENDED_1', 'change_TOTAL_PHOTOS_VIEWED_0','rev_log'\n",
    "    ],\n",
    "    \"Lasso Features\" : [\n",
    "        'REVENUE', 'TOTAL_MEALS_ORDERED', 'UNIQUE_MEALS_PURCH', \n",
    "        'CONTACTS_W_CUSTOMER_SERVICE',  \n",
    "        'AVG_TIME_PER_SITE_VISIT', 'CANCELLATIONS_BEFORE_NOON',\n",
    "        'CANCELLATIONS_AFTER_NOON', 'PC_LOGINS', 'MOBILE_LOGINS',\n",
    "        'EARLY_DELIVERIES', 'REFRIGERATED_LOCKER', 'AVG_PREP_VID_TIME', \n",
    "        'LARGEST_ORDER_SIZE', \n",
    "        'MEDIAN_MEAL_RATING', 'TOTAL_PHOTOS_VIEWED', 'junk',  \n",
    "        'out_TOTAL_MEALS_ORDERED', 'out_UNIQUE_MEALS_PURCH', \n",
    "        'out_CONTACTS_W_CUSTOMER_SERVICE','out_LATE_DELIVERIES', \n",
    "        'out_TOTAL_PHOTOS_VIEWED', 'out_REVENUE', 'out_LARGEST_ORDER_SIZE',\n",
    "        'out_AVG_CLICKS_PER_VISIT','change_AVG_PREP_VID_TIME_1', 'change_LARGEST_ORDER_SIZE_0', \n",
    "        'change_UNIQUE_MEALS_PURCH_0', 'change_CONTACTS_W_CUSTOMER_SERVICE_0', \n",
    "        'change_PRODUCT_CATEGORIES_VIEWED_0','change_CANCELLATIONS_BEFORE_NOON_0',\n",
    "        'change_PC_LOGINS_0', 'change_WEEKLY_PLAN_0',\n",
    "        'change_MEDIAN_MEAL_RATING_0', 'change_MEDIAN_MEAL_RATING_1',\n",
    "        'change_MEDIAN_MEAL_RATING_2', 'change_MASTER_CLASSES_ATTENDED_0',\n",
    "        'change_MASTER_CLASSES_ATTENDED_1', 'change_TOTAL_PHOTOS_VIEWED_0','rev_log'\n",
    "    ],\n",
    "    \"ARD Features\" : [\n",
    "        'REVENUE', 'TOTAL_MEALS_ORDERED', 'CONTACTS_W_CUSTOMER_SERVICE', \n",
    "        'AVG_PREP_VID_TIME', 'LARGEST_ORDER_SIZE',\n",
    "        'MEDIAN_MEAL_RATING', 'out_TOTAL_MEALS_ORDERED', \n",
    "        'out_CONTACTS_W_CUSTOMER_SERVICE', \n",
    "        'change_AVG_PREP_VID_TIME_1', 'change_UNIQUE_MEALS_PURCH_0', \n",
    "        'change_CONTACTS_W_CUSTOMER_SERVICE_0',  \n",
    "        'change_MEDIAN_MEAL_RATING_0', 'change_MEDIAN_MEAL_RATING_1',\n",
    "        'change_MASTER_CLASSES_ATTENDED_0','change_MASTER_CLASSES_ATTENDED_1', \n",
    "        'change_TOTAL_PHOTOS_VIEWED_0','rev_log'\n",
    "    ]\n",
    "    \n",
    "}"
   ]
  },
  {
   "cell_type": "markdown",
   "metadata": {
    "deletable": false,
    "editable": false
   },
   "source": [
    "### A) Base Linear Model\n"
   ]
  },
  {
   "cell_type": "markdown",
   "metadata": {
    "deletable": false,
    "editable": false
   },
   "source": [
    "We'll start with an multilinear model. We'll be using the statsmodel package to print out comprehensive summary to better understand our features and how they relate to REVENUE: <br> <br>\n",
    "<strong> Step 1: </strong> Correlation between dependent variables and independent variable <br>\n",
    "<strong> Step 2: </strong> OLS model with original features <br>\n",
    "<strong> Step 3: </strong> OLS model with original and engineered features <br> \n",
    "<strong> Step 4: </strong> OLS model with fitted variables (only significant variables) <br><br>"
   ]
  },
  {
   "cell_type": "code",
   "execution_count": 23,
   "metadata": {
    "deletable": false,
    "editable": false,
    "scrolled": true
   },
   "outputs": [],
   "source": [
    "# creating a (Pearson) correlation matrix\n",
    "df_corr = clean_chef.corr().round(2)"
   ]
  },
  {
   "cell_type": "code",
   "execution_count": 24,
   "metadata": {
    "deletable": false,
    "editable": false
   },
   "outputs": [],
   "source": [
    "# Creating a DataFrame with only Original Features (Base Model)\n",
    "chef_org_explanatory = chef_org[variables_dict['Base']]\n",
    "\n",
    "# dropping Revenue and Discrete variables from the explanatory variable set\n",
    "chef_org_explanatory = chef_org_explanatory.drop(['REVENUE','NAME','FIRST_NAME','FAMILY_NAME', 'EMAIL'], axis = 1)"
   ]
  },
  {
   "cell_type": "code",
   "execution_count": 25,
   "metadata": {
    "deletable": false,
    "editable": false
   },
   "outputs": [],
   "source": [
    "# Building a full OLS model with all original features\n",
    "lm_full = smf.ols(formula = \"\"\" chef_org['REVENUE'] ~\n",
    "                            chef_org['CROSS_SELL_SUCCESS'] +\n",
    "                            chef_org['TOTAL_MEALS_ORDERED'] +\n",
    "                            chef_org['UNIQUE_MEALS_PURCH'] +\n",
    "                            chef_org['CONTACTS_W_CUSTOMER_SERVICE'] +\n",
    "                            chef_org['PRODUCT_CATEGORIES_VIEWED'] +\n",
    "                            chef_org['AVG_TIME_PER_SITE_VISIT'] +\n",
    "                            chef_org['MOBILE_NUMBER'] +\n",
    "                            chef_org['CANCELLATIONS_BEFORE_NOON'] +\n",
    "                            chef_org['CANCELLATIONS_AFTER_NOON'] +\n",
    "                            chef_org['TASTES_AND_PREFERENCES'] +\n",
    "                            chef_org['PC_LOGINS'] +\n",
    "                            chef_org['MOBILE_LOGINS'] +\n",
    "                            chef_org['WEEKLY_PLAN'] +\n",
    "                            chef_org['EARLY_DELIVERIES'] +\n",
    "                            chef_org['LATE_DELIVERIES'] +\n",
    "                            chef_org['PACKAGE_LOCKER'] +\n",
    "                            chef_org['REFRIGERATED_LOCKER'] +\n",
    "                            chef_org['FOLLOWED_RECOMMENDATIONS_PCT'] +\n",
    "                            chef_org['AVG_PREP_VID_TIME'] +\n",
    "                            chef_org['LARGEST_ORDER_SIZE'] +\n",
    "                            chef_org['MASTER_CLASSES_ATTENDED'] +\n",
    "                            chef_org['MEDIAN_MEAL_RATING'] +\n",
    "                            chef_org['AVG_CLICKS_PER_VISIT'] +\n",
    "                            chef_org['TOTAL_PHOTOS_VIEWED']\n",
    "                            \"\"\",\n",
    "                 data = chef_org)\n",
    "\n",
    "# telling Python to run the data through the blueprint\n",
    "results_full = lm_full.fit()\n",
    "\n",
    "# printing the results\n",
    "#print(results_full.summary2())"
   ]
  },
  {
   "cell_type": "markdown",
   "metadata": {
    "deletable": false,
    "editable": false
   },
   "source": [
    "<strong> Observations: </strong> <br>\n",
    "- F-statistic p-value is very low: model is explaining (to a certain degree) the REVENUE\n",
    "- a lot of statistically insignificant variables that might be adding noise to our model\n",
    "- significant variables: total meals ordered (+ 5.7), unique meal purchased (-63.7), contacts with customer service (+ 45.6), average prep video time (+ 9.3), largest order size (- 96), master classes attended (+ 175.2), median meal rating ( + 342.4), total photos viewed (+ 0.69).\n",
    "- from these, it is not surprising to have total meals ordered and largest order size as revenue = quantity * price and these variables are directly related to quantity. However it is interesting to look at unique meals purchased having a negative relationship with revenue. This could indicate that customers for Apprentice Chef are most likely to be always ordering the same meals. --> for further investigation\n",
    "- ! The condition number is large (6e+03). This might indicate strong multicollinearity or other numerical problems."
   ]
  },
  {
   "cell_type": "code",
   "execution_count": 26,
   "metadata": {
    "deletable": false,
    "editable": false
   },
   "outputs": [],
   "source": [
    "### Creating a Feature Rich DataFrame (Full model)\n",
    "chef_full_explanatory = clean_chef[variables_dict['Full_Features']]\n",
    "\n",
    "# dropping Revenue and Discrete variables from the explanatory variable set\n",
    "chef_full_explanatory = chef_full_explanatory.drop(['REVENUE','out_REVENUE'], axis = 1)"
   ]
  },
  {
   "cell_type": "code",
   "execution_count": 27,
   "metadata": {
    "deletable": false,
    "editable": false,
    "scrolled": true
   },
   "outputs": [],
   "source": [
    "## Building a full OLS model with created features\n",
    "lm_full = smf.ols(formula = \"\"\" chef_org['REVENUE'] ~\n",
    "                            clean_chef['TOTAL_MEALS_ORDERED'] +\n",
    "                            clean_chef['UNIQUE_MEALS_PURCH'] +\n",
    "                            clean_chef['CONTACTS_W_CUSTOMER_SERVICE'] +\n",
    "                            clean_chef['PRODUCT_CATEGORIES_VIEWED'] +\n",
    "                            clean_chef['AVG_TIME_PER_SITE_VISIT'] +\n",
    "                            clean_chef['MOBILE_NUMBER'] +\n",
    "                            clean_chef['CANCELLATIONS_BEFORE_NOON'] +\n",
    "                            clean_chef['CANCELLATIONS_AFTER_NOON'] +\n",
    "                            clean_chef['TASTES_AND_PREFERENCES'] +\n",
    "                            clean_chef['PC_LOGINS'] +\n",
    "                            clean_chef['MOBILE_LOGINS'] +\n",
    "                            clean_chef['WEEKLY_PLAN'] +\n",
    "                            clean_chef['EARLY_DELIVERIES'] +\n",
    "                            clean_chef['LATE_DELIVERIES'] +\n",
    "                            clean_chef['PACKAGE_LOCKER'] +\n",
    "                            clean_chef['REFRIGERATED_LOCKER'] +\n",
    "                            clean_chef['FOLLOWED_RECOMMENDATIONS_PCT'] +\n",
    "                            clean_chef['AVG_PREP_VID_TIME'] +\n",
    "                            clean_chef['LARGEST_ORDER_SIZE'] +\n",
    "                            clean_chef['MASTER_CLASSES_ATTENDED'] +\n",
    "                            clean_chef['MEDIAN_MEAL_RATING'] +\n",
    "                            clean_chef['AVG_CLICKS_PER_VISIT'] +\n",
    "                            clean_chef['TOTAL_PHOTOS_VIEWED'] +\n",
    "                            clean_chef['junk'] +\n",
    "                            clean_chef['personal'] +\n",
    "                            clean_chef['professional'] +\n",
    "                            clean_chef['out_AVG_TIME_PER_SITE_VISIT'] +\n",
    "                            clean_chef['out_AVG_PREP_VID_TIME'] +\n",
    "                            clean_chef['out_TOTAL_MEALS_ORDERED'] +\n",
    "                            clean_chef['out_UNIQUE_MEALS_PURCH'] +\n",
    "                            clean_chef['out_CONTACTS_W_CUSTOMER_SERVICE'] +\n",
    "                            clean_chef['out_CANCELLATIONS_BEFORE_NOON'] +\n",
    "                            clean_chef['out_LATE_DELIVERIES'] +\n",
    "                            clean_chef['out_TOTAL_PHOTOS_VIEWED'] +\n",
    "                            clean_chef['out_FOLLOWED_RECOMMENDATIONS_PCT'] +\n",
    "                            clean_chef['out_LARGEST_ORDER_SIZE'] +\n",
    "                            clean_chef['out_AVG_CLICKS_PER_VISIT'] +\n",
    "                            clean_chef['change_AVG_TIME_PER_SITE_VISIT_0'] +\n",
    "                            clean_chef['change_FOLLOWED_RECOMMENDATIONS_PCT_0'] +\n",
    "                            clean_chef['change_AVG_PREP_VID_TIME_0'] +\n",
    "                            clean_chef['change_AVG_PREP_VID_TIME_1'] +\n",
    "                            clean_chef['change_TOTAL_MEALS_ORDERED_0'] +\n",
    "                            clean_chef['change_LARGEST_ORDER_SIZE_0'] +\n",
    "                            clean_chef['change_AVG_CLICKS_PER_VISIT_0'] +\n",
    "                            clean_chef['change_AVG_CLICKS_PER_VISIT_1'] +\n",
    "                            clean_chef['change_UNIQUE_MEALS_PURCH_0'] +\n",
    "                            clean_chef['change_CONTACTS_W_CUSTOMER_SERVICE_0'] +\n",
    "                            clean_chef['change_PRODUCT_CATEGORIES_VIEWED_0'] +\n",
    "                            clean_chef['change_CANCELLATIONS_BEFORE_NOON_0'] +\n",
    "                            clean_chef['change_MOBILE_LOGINS_0'] +\n",
    "                            clean_chef['change_PC_LOGINS_0'] +\n",
    "                            clean_chef['change_WEEKLY_PLAN_0'] +\n",
    "                            clean_chef['change_LATE_DELIVERIES_0'] +\n",
    "                            clean_chef['change_MEDIAN_MEAL_RATING_0'] +\n",
    "                            clean_chef['change_MEDIAN_MEAL_RATING_1'] +\n",
    "                            clean_chef['change_MEDIAN_MEAL_RATING_2'] +\n",
    "                            clean_chef['change_MASTER_CLASSES_ATTENDED_0'] +\n",
    "                            clean_chef['change_MASTER_CLASSES_ATTENDED_1'] +\n",
    "                            clean_chef['change_TOTAL_PHOTOS_VIEWED_0']\n",
    "                           \"\"\",\n",
    "                 data = clean_chef)\n",
    "\n",
    "# telling Python to run the data through the blueprint\n",
    "results_full = lm_full.fit()\n",
    "\n",
    "# printing the results\n",
    "#print(results_full.summary2())"
   ]
  },
  {
   "cell_type": "markdown",
   "metadata": {
    "deletable": false,
    "editable": false
   },
   "source": [
    "<strong> Observations: </strong>\n",
    "- improved adjusted r-squared: features created help explain REVENUE better\n",
    "- still a lot of insignificant features\n",
    "- still possibility of multicollinearity"
   ]
  },
  {
   "cell_type": "code",
   "execution_count": 28,
   "metadata": {
    "deletable": false,
    "editable": false,
    "scrolled": true
   },
   "outputs": [],
   "source": [
    "## Creating a DataFrame with only significant features\n",
    "chef_fit = clean_chef[variables_dict['LinearReg Features']]\n"
   ]
  },
  {
   "cell_type": "code",
   "execution_count": 29,
   "metadata": {
    "deletable": false,
    "editable": false,
    "scrolled": false
   },
   "outputs": [],
   "source": [
    "# Building a fit OLS model based on P-value from full model (alpha = 0.001)\n",
    "\n",
    "lm_fit = smf.ols(formula = \"\"\" chef_org['REVENUE'] ~\n",
    "                            clean_chef['TOTAL_MEALS_ORDERED'] +\n",
    "                            clean_chef['CONTACTS_W_CUSTOMER_SERVICE'] +\n",
    "                            clean_chef['AVG_PREP_VID_TIME'] +\n",
    "                            clean_chef['LARGEST_ORDER_SIZE'] +\n",
    "                            clean_chef['TOTAL_PHOTOS_VIEWED'] +\n",
    "                            clean_chef['change_AVG_TIME_PER_SITE_VISIT_0'] +\n",
    "                            clean_chef['change_UNIQUE_MEALS_PURCH_0'] +\n",
    "                            clean_chef['change_CONTACTS_W_CUSTOMER_SERVICE_0'] +\n",
    "                            clean_chef['change_MEDIAN_MEAL_RATING_1'] +\n",
    "                            clean_chef['change_MASTER_CLASSES_ATTENDED_0'] +\n",
    "                            clean_chef['change_MASTER_CLASSES_ATTENDED_1']\n",
    "                            \"\"\",\n",
    "                 data = clean_chef) \n",
    "\n",
    "# telling Python to run the data through the blueprint\n",
    "results_fit = lm_fit.fit()\n",
    "\n",
    "# printing the results\n",
    "#print(results_fit.summary2())"
   ]
  },
  {
   "cell_type": "markdown",
   "metadata": {
    "deletable": false,
    "editable": false
   },
   "source": [
    "<strong> Observations: </strong>\n",
    "- skewness reduced\n",
    "- adjusted r-squared reduced: normal since this is the first fitted model\n",
    "- all variables are significant"
   ]
  },
  {
   "cell_type": "markdown",
   "metadata": {
    "deletable": false,
    "editable": false
   },
   "source": [
    "### B) Feature Selection"
   ]
  },
  {
   "cell_type": "markdown",
   "metadata": {
    "deletable": false,
    "editable": false
   },
   "source": [
    "In this section, we'll be utilizing different methods to improve our models predictive power by shedding a light on which features are important: <br> <br>\n",
    "<strong> Method 1: </strong> L1 Regularization or Lasso - useful for feature selection when we have too many variables\n",
    "<br><br>"
   ]
  },
  {
   "cell_type": "code",
   "execution_count": 30,
   "metadata": {
    "deletable": false,
    "editable": false
   },
   "outputs": [],
   "source": [
    "## Preparing the orginal data for SKLEARN models\n",
    "# Creating a variable for random seed\n",
    "seed = 222\n",
    "\n",
    "# Preparing response variable\n",
    "chef_target = clean_chef['rev_log']\n",
    "\n",
    "\n",
    "### Non-transformed Data ###\n",
    "# Preparing x-variables\n",
    "## use dictionary keys for different sets of features (might need to drop different columns)\n",
    "chef_x = clean_chef[variables_dict['ARD Features']].drop(['REVENUE','rev_log'], axis = 1)# 'out_REVENUE',\n",
    "\n",
    "# Running train/test split\n",
    "X_train, X_test, y_train, y_test = train_test_split(\n",
    "            chef_x,\n",
    "            chef_target,\n",
    "            test_size = 0.25,\n",
    "            random_state = seed)\n",
    "\n",
    "### Transformed Data #### \n",
    "# Preparing x-variables\n",
    "chef_std_x = chef_std[variables_dict['ARD Features']].drop(['REVENUE','rev_log'], axis = 1) #'out_REVENUE',\n",
    "\n",
    "# Running train/test split\n",
    "X_train_s, X_test_s, y_train_s, y_test_s = train_test_split(\n",
    "            chef_std_x,\n",
    "            chef_target,\n",
    "            test_size = 0.25,\n",
    "            random_state = seed)"
   ]
  },
  {
   "cell_type": "markdown",
   "metadata": {
    "deletable": false,
    "editable": false
   },
   "source": [
    "<br>\n",
    "\n",
    "***\n",
    "<br>\n",
    "Let's first run a linear regression model on sklearn to evaluate how our features test on new data:\n",
    "<br>"
   ]
  },
  {
   "cell_type": "code",
   "execution_count": 31,
   "metadata": {
    "deletable": false,
    "editable": false,
    "scrolled": true
   },
   "outputs": [
    {
     "name": "stdout",
     "output_type": "stream",
     "text": [
      "Training Score: 0.8259\n",
      "Testing Score: 0.7832\n"
     ]
    }
   ],
   "source": [
    "# applying modeling with scikit-learn\n",
    "# INSTANTIATING a model object\n",
    "lr = LinearRegression()\n",
    "\n",
    "\n",
    "# FITTING to the training data\n",
    "lr_fit = lr.fit(X_train, y_train) \n",
    "\n",
    "\n",
    "# PREDICTING on new data\n",
    "lr_pred = lr_fit.predict(X_test) \n",
    "\n",
    "# SCORING the results\n",
    "print('Training Score:', lr.score(X_train, y_train).round(4)) \n",
    "print('Testing Score:',  lr.score(X_test, y_test).round(4))   \n",
    "\n",
    "# saving results for later:\n",
    "lr_train_score = lr.score(X_train, y_train).round(4) \n",
    "lr_test_score  = lr.score(X_test, y_test).round(4)"
   ]
  },
  {
   "cell_type": "markdown",
   "metadata": {
    "deletable": false,
    "editable": false
   },
   "source": [
    "<br>\n",
    "\n",
    "***\n",
    "<br>\n",
    "Now let's run our first regularization model on sklearn: Lasso (L1 Regularization). The goal is to evaluate which features are important to our target variable. The model uses a penalty function to decrease a feature's coefficient each time it runs, thus making insignificant coefficients equal to zero by the end. <br><br>\n",
    "Its parameters specified below are alpha (regularization parameter, when equal to one - simple linear regression, as it reduces, we further filter our features by penalizing them) and normalize (which here is set to false since we are using normalized data on it). It is important to use standardized data with this method to reduce \n",
    "\n",
    "<br>\n",
    "We then look at the coefficients for each of the variables to identify features that are important. \n",
    "<br><br>\n",
    "sources: <br>\n",
    "<a> https://towardsdatascience.com/l1-and-l2-regularization-methods-ce25e7fc831c <br>\n",
    "<a> https://towardsdatascience.com/ridge-and-lasso-regression-a-complete-guide-with-python-scikit-learn-e20e34bcbf0b\n"
   ]
  },
  {
   "cell_type": "code",
   "execution_count": 33,
   "metadata": {
    "deletable": false,
    "editable": false
   },
   "outputs": [
    {
     "name": "stdout",
     "output_type": "stream",
     "text": [
      "Training Score: 0.825\n",
      "Testing Score: 0.7817\n"
     ]
    }
   ],
   "source": [
    "# INSTANTIATING a model object\n",
    "lasso_model = sklearn.linear_model.Lasso(alpha = 0.003, \n",
    "                                         normalize = False) # using standardized data\n",
    "\n",
    "# FITTING the training data\n",
    "lasso_fit = lasso_model.fit(X_train_s, y_train_s)\n",
    "\n",
    "\n",
    "# PREDICTING on new data\n",
    "lasso_pred = lasso_fit.predict(X_test_s)\n",
    "\n",
    "print('Training Score:', lasso_model.score(X_train_s, y_train_s).round(4))\n",
    "print('Testing Score:',  lasso_model.score(X_test_s, y_test_s).round(4))"
   ]
  },
  {
   "cell_type": "code",
   "execution_count": 34,
   "metadata": {
    "deletable": false,
    "editable": false,
    "scrolled": false
   },
   "outputs": [],
   "source": [
    "# storing coefficients as df \n",
    "lasso_model_coef = pd.DataFrame(lasso_model.coef_)\n",
    "\n",
    "# naming variables to coefficients\n",
    "lasso_model_coef['Variable Names'] = chef_std_x.columns\n",
    "\n",
    "# Looking at insignificant coefficients\n",
    "drop = lasso_model_coef.iloc[:,:][lasso_model_coef[0] == 0]"
   ]
  },
  {
   "cell_type": "code",
   "execution_count": 35,
   "metadata": {
    "deletable": false,
    "editable": false,
    "scrolled": true
   },
   "outputs": [
    {
     "name": "stdout",
     "output_type": "stream",
     "text": [
      "Training Score: 0.8258\n",
      "Testing Score: 0.7837\n"
     ]
    }
   ],
   "source": [
    "# INSTANTIATING a model object\n",
    "ard_model = sklearn.linear_model.ARDRegression(n_iter = 400, \n",
    "                                               normalize = False) # using standardized data\n",
    "\n",
    "# FITTING the training data\n",
    "ard_fit = ard_model.fit(X_train_s, y_train_s)\n",
    "\n",
    "\n",
    "# PREDICTING on new data\n",
    "ard_pred = ard_fit.predict(X_test_s)\n",
    "\n",
    "print('Training Score:', ard_model.score(X_train_s, y_train_s).round(4))\n",
    "print('Testing Score:',  ard_model.score(X_test_s, y_test_s).round(4))"
   ]
  },
  {
   "cell_type": "code",
   "execution_count": 36,
   "metadata": {
    "deletable": false,
    "editable": false
   },
   "outputs": [],
   "source": [
    "# storing coefficients as df \n",
    "ard_model_coef = pd.DataFrame(ard_model.coef_)\n",
    "ard_model_coef['Variable Names'] = chef_std_x.columns\n",
    "\n",
    "# Looking at insignificant coefficients\n",
    "drop = ard_model_coef.iloc[:,:][ard_model_coef[0] == 0]"
   ]
  },
  {
   "cell_type": "code",
   "execution_count": 37,
   "metadata": {
    "deletable": false,
    "editable": false,
    "scrolled": false
   },
   "outputs": [
    {
     "name": "stdout",
     "output_type": "stream",
     "text": [
      "The optimal number of neighbors is 8\n",
      "Training Score: 0.8499\n",
      "Testing Score: 0.7849\n"
     ]
    }
   ],
   "source": [
    "# creating lists for training set accuracy and test set accuracy\n",
    "training_accuracy = []\n",
    "test_accuracy = []\n",
    "\n",
    "\n",
    "# building a visualization of 1 to 50 neighbors\n",
    "neighbors_settings = range(1, 21)\n",
    "\n",
    "for n_neighbors in neighbors_settings:\n",
    "    # Building the model\n",
    "    clf = KNeighborsRegressor(n_neighbors = n_neighbors)\n",
    "    clf.fit(X_train_s, y_train_s)\n",
    "    \n",
    "    # Recording the training set accuracy\n",
    "    training_accuracy.append(clf.score(X_train_s, y_train_s))\n",
    "    \n",
    "    # Recording the generalization accuracy\n",
    "    test_accuracy.append(clf.score(X_test_s, y_test_s))\n",
    "\n",
    "\n",
    "# plotting the visualization\n",
    "#fig, ax = plt.subplots(figsize=(12,8))\n",
    "#plt.plot(neighbors_settings, training_accuracy, label = \"training accuracy\")\n",
    "#plt.plot(neighbors_settings, test_accuracy, label = \"test accuracy\")\n",
    "#plt.ylabel(\"Accuracy\")\n",
    "#plt.xlabel(\"n_neighbors\")\n",
    "#plt.legend()\n",
    "#plt.show()\n",
    "\n",
    "# finding the optimal number of neighbors\n",
    "opt_neighbors = test_accuracy.index(max(test_accuracy)) + 1\n",
    "print(f\"\"\"The optimal number of neighbors is {opt_neighbors}\"\"\")\n",
    "\n",
    "# Model:\n",
    "# INSTANTIATING a KNN model object\n",
    "knn_reg = KNeighborsRegressor(algorithm = 'auto',\n",
    "                              n_neighbors = opt_neighbors)\n",
    "\n",
    "# FITTING to the training data\n",
    "knn_reg.fit(X_train_s, y_train_s)\n",
    "\n",
    "\n",
    "# PREDICTING on new data\n",
    "knn_reg_pred = knn_reg.predict(X_test_s)\n",
    "\n",
    "\n",
    "# SCORING the results\n",
    "print('Training Score:', knn_reg.score(X_train_s, y_train_s).round(4))\n",
    "print('Testing Score:',  knn_reg.score(X_test_s, y_test_s).round(4))"
   ]
  },
  {
   "cell_type": "markdown",
   "metadata": {
    "deletable": false,
    "editable": false
   },
   "source": [
    "<br> <strong> Observations: </strong>\n",
    "- KNN model score is not higher than a Linear model with features selected by regularization methods\n",
    "- KNN slightly overfits our model (difference of 0.065 between train and test scores)\n",
    "\n",
    "<strong> Conclusion: </strong>  Linear model provides a high score with features selected by regularization methods. Its interpretability will provide powerful business insights. However, we need to make sure we are meeting all the assumptions necessary of a linear model.\n"
   ]
  },
  {
   "cell_type": "markdown",
   "metadata": {
    "deletable": false,
    "editable": false
   },
   "source": [
    "***"
   ]
  },
  {
   "cell_type": "markdown",
   "metadata": {
    "deletable": false,
    "editable": false
   },
   "source": [
    "## Part IV: Evaluating Model - Linear Model Assumptions\n",
    "1. Residual plots (is linear assumption valid? are outliers affecting our predictions?)\n",
    "2.  Multicollinearity (highly correlated explanatory variables)\n",
    "3.  Re - sampling methods (cross validation)\n"
   ]
  },
  {
   "cell_type": "markdown",
   "metadata": {
    "deletable": false,
    "editable": false
   },
   "source": [
    "<strong> 1. Residual Plot </strong>"
   ]
  },
  {
   "cell_type": "code",
   "execution_count": 38,
   "metadata": {
    "scrolled": false
   },
   "outputs": [
    {
     "data": {
      "image/png": "[encoded data removed]",
      "text/plain": [
       "<Figure size 720x720 with 1 Axes>"
      ]
     },
     "metadata": {
      "needs_background": "light"
     },
     "output_type": "display_data"
    }
   ],
   "source": [
    "# setting figure size\n",
    "fig, ax = plt.subplots(figsize = (10, 10))\n",
    "\n",
    "\n",
    "# developing a residual plot\n",
    "sns.residplot(x = lr_pred,  # prediction values \n",
    "              y = y_test)   # actual values \n",
    "\n",
    "# displaying the plot\n",
    "plt.show()"
   ]
  },
  {
   "cell_type": "markdown",
   "metadata": {
    "deletable": false,
    "editable": false
   },
   "source": [
    "<strong> Observations:</strong>\n",
    "- no obvious patterns: homoskedasticity assumption met, linear relationship met\n",
    "- Caution: very big outlier could be affecting our prediction\n",
    "\n",
    "<br>\n",
    "sources: <br>\n",
    "<a> https://data.library.virginia.edu/interpreting-log-transformations-in-a-linear-model/ <br>\n",
    "<a> http://docs.statwing.com/interpreting-residual-plots-to-improve-your-regression/\n"
   ]
  },
  {
   "cell_type": "markdown",
   "metadata": {
    "deletable": false,
    "editable": false
   },
   "source": [
    "***"
   ]
  },
  {
   "cell_type": "markdown",
   "metadata": {
    "deletable": false,
    "editable": false
   },
   "source": [
    "<strong> 2. Evaluating Outlier Affect on Model </strong>"
   ]
  },
  {
   "cell_type": "markdown",
   "metadata": {
    "deletable": false,
    "editable": false
   },
   "source": [
    "Variables in our model with outliers:\n",
    "- Total meals ordered\n",
    "- Largest order size\n",
    "- Contact with customer service\n",
    "- Avg prep video time\n",
    "- Largest order size"
   ]
  },
  {
   "cell_type": "markdown",
   "metadata": {
    "deletable": false,
    "editable": false
   },
   "source": [
    "Important: Since we are removing outliers, it is important to check how many observations we are removing from our dataset."
   ]
  },
  {
   "cell_type": "code",
   "execution_count": 39,
   "metadata": {
    "deletable": false,
    "editable": false,
    "scrolled": true
   },
   "outputs": [
    {
     "name": "stdout",
     "output_type": "stream",
     "text": [
      "(1946, 62)\n",
      "(1939, 62)\n"
     ]
    }
   ],
   "source": [
    "# Creating a copy of dataset for safety measure\n",
    "out_chef = clean_chef.copy()\n",
    "\n",
    "# Printing out size of dataframe with all data points\n",
    "print(out_chef.shape)\n",
    "\n",
    "# Subsetting outliers from our linear model features by using flags\n",
    "out_chef = out_chef.loc[:][out_chef['out_TOTAL_MEALS_ORDERED'] == 0]\n",
    "                          \n",
    "# Printing out size of dataframe after removing outliers\n",
    "print(out_chef.shape)\n"
   ]
  },
  {
   "cell_type": "markdown",
   "metadata": {
    "deletable": false,
    "editable": false
   },
   "source": [
    "Removed only 7 observations that we outliers in Total Meals Ordered. Total meals ordered is a variable that has a direct relationship with revenue since Revenue = Quantity x Price and Total meals ordered for each customer corresponds to its quantity. Therefore, any outliers could be affecting our model's ability to generalize and predict new data."
   ]
  },
  {
   "cell_type": "code",
   "execution_count": 40,
   "metadata": {
    "deletable": false,
    "editable": false
   },
   "outputs": [
    {
     "name": "stdout",
     "output_type": "stream",
     "text": [
      "Training Score: 0.807\n",
      "Testing Score: 0.8279\n"
     ]
    }
   ],
   "source": [
    "# Re-running our linear model without outliers to compare test scores (previous = 0.7832)\n",
    "\n",
    "# Preparing response variable\n",
    "out_chef_target = out_chef['rev_log']\n",
    "\n",
    "\n",
    "### Non-transformed Data ###\n",
    "# Preparing x-variables\n",
    "out_chef_x = out_chef[variables_dict['ARD Features']].drop(['REVENUE','rev_log','out_TOTAL_MEALS_ORDERED'],\n",
    "                                                           axis = 1)# 'out_REVENUE',\n",
    "\n",
    "# Running train/test split\n",
    "X_train_out, X_test_out, y_train_out, y_test_out = train_test_split(\n",
    "            out_chef_x,\n",
    "            out_chef_target,\n",
    "            test_size = 0.25,\n",
    "            random_state = seed)\n",
    "\n",
    "\n",
    "# applying modeling with scikit-learn\n",
    "# INSTANTIATING a model object\n",
    "out_lr = LinearRegression()\n",
    "\n",
    "\n",
    "# FITTING to the training data\n",
    "out_lr_fit = out_lr.fit(X_train_out, y_train_out) \n",
    "\n",
    "\n",
    "# PREDICTING on new data\n",
    "out_lr_pred = out_lr_fit.predict(X_test_out) \n",
    "\n",
    "# SCORING the results\n",
    "print('Training Score:', out_lr.score(X_train_out, y_train_out).round(4)) \n",
    "print('Testing Score:',  out_lr.score(X_test_out, y_test_out).round(4))   \n",
    "\n",
    "# saving results for later:\n",
    "out_lr_train_score = out_lr.score(X_train_out, y_train_out).round(4) \n",
    "out_lr_test_score  = out_lr.score(X_test_out, y_test_out).round(4)"
   ]
  },
  {
   "cell_type": "code",
   "execution_count": 41,
   "metadata": {
    "deletable": false,
    "editable": false
   },
   "outputs": [],
   "source": [
    "# Using StatsModels to print out summary of our best model \n",
    "# merging X_train and y_train so that they can be used in statsmodels\n",
    "chef_train = pd.concat([X_train_out, y_train_out], axis = 1)\n",
    "\n",
    "# Step 1: build a model\n",
    "lm_best = smf.ols(formula =  \"\"\"rev_log ~ chef_train['TOTAL_MEALS_ORDERED'] +\n",
    "                                chef_train['CONTACTS_W_CUSTOMER_SERVICE'] +\n",
    "                                chef_train['AVG_PREP_VID_TIME'] +\n",
    "                                chef_train['LARGEST_ORDER_SIZE'] +\n",
    "                                chef_train['MEDIAN_MEAL_RATING'] +\n",
    "                                chef_train['out_CONTACTS_W_CUSTOMER_SERVICE'] +\n",
    "                                chef_train['change_AVG_PREP_VID_TIME_1'] +\n",
    "                                chef_train['change_UNIQUE_MEALS_PURCH_0'] +\n",
    "                                chef_train['change_CONTACTS_W_CUSTOMER_SERVICE_0'] +\n",
    "                                chef_train['change_MEDIAN_MEAL_RATING_0'] +\n",
    "                                chef_train['change_MEDIAN_MEAL_RATING_1'] +\n",
    "                                chef_train['change_MASTER_CLASSES_ATTENDED_0'] +\n",
    "                                chef_train['change_MASTER_CLASSES_ATTENDED_1'] +\n",
    "                                chef_train['change_TOTAL_PHOTOS_VIEWED_0']\"\"\",\n",
    "                                data = chef_train)\n",
    "\n",
    "\n",
    "# Step 2: fit the model based on the data\n",
    "results = lm_best.fit()\n",
    "\n",
    "\n",
    "# Step 3: analyze the summary output\n",
    "#print(results.summary2())"
   ]
  },
  {
   "cell_type": "markdown",
   "metadata": {
    "deletable": false,
    "editable": false
   },
   "source": [
    "<strong> Observations: </strong>\n",
    "- outliers were having a large effect on model: new testing score = 0.8279\n",
    "<br><br>\n",
    "Let's plot again our residual plot:"
   ]
  },
  {
   "cell_type": "code",
   "execution_count": 43,
   "metadata": {},
   "outputs": [
    {
     "data": {
      "image/png": "[encoded data removed]",
      "text/plain": [
       "<Figure size 720x720 with 1 Axes>"
      ]
     },
     "metadata": {
      "needs_background": "light"
     },
     "output_type": "display_data"
    }
   ],
   "source": [
    "# setting figure size\n",
    "fig, ax = plt.subplots(figsize = (10, 10))\n",
    "\n",
    "\n",
    "# developing a residual plot\n",
    "sns.residplot(x = out_lr_pred,  # prediction values \n",
    "              y = y_test_out)   # actual values \n",
    "\n",
    "#displaying the plot\n",
    "plt.show()"
   ]
  },
  {
   "cell_type": "markdown",
   "metadata": {
    "deletable": false,
    "editable": false
   },
   "source": [
    "<strong> Observations: </strong> \n",
    "- there still seems to be a few outliers in our model with really big residual. It is most likely these outlier do not come from our independent variables, and is instead an outlier in Revenue, which is why our model's testing score still increased. \n",
    "- for the purpose of this analysis, we will keep the Revenue outliers in our model, since the objective is to identify the best features to predict revenue for a new consumer. Further investigation is needed on this Revenue data point as to understand its relationship in with the selected features."
   ]
  },
  {
   "cell_type": "markdown",
   "metadata": {
    "deletable": false,
    "editable": false
   },
   "source": [
    "<strong> 3. Multicollinearity </strong>"
   ]
  },
  {
   "cell_type": "markdown",
   "metadata": {
    "deletable": false,
    "editable": false
   },
   "source": [
    "Multicollinearity occurs when variables used to predict a target variable are highly correlated amongst themselves. It can be affecting our model since we are double counting, leading to bad predictions and higher standard errors. <br>\n",
    "Because our model does not have many features, we can use a correlation matrix to identify which variables (if any) are higher correlated."
   ]
  },
  {
   "cell_type": "code",
   "execution_count": 46,
   "metadata": {},
   "outputs": [
    {
     "data": {
      "text/html": [
       "<div>\n",
       "<style scoped>\n",
       "    .dataframe tbody tr th:only-of-type {\n",
       "        vertical-align: middle;\n",
       "    }\n",
       "\n",
       "    .dataframe tbody tr th {\n",
       "        vertical-align: top;\n",
       "    }\n",
       "\n",
       "    .dataframe thead th {\n",
       "        text-align: right;\n",
       "    }\n",
       "</style>\n",
       "<table border=\"1\" class=\"dataframe\">\n",
       "  <thead>\n",
       "    <tr style=\"text-align: right;\">\n",
       "      <th></th>\n",
       "      <th>TOTAL_MEALS_ORDERED</th>\n",
       "      <th>CONTACTS_W_CUSTOMER_SERVICE</th>\n",
       "      <th>AVG_PREP_VID_TIME</th>\n",
       "      <th>LARGEST_ORDER_SIZE</th>\n",
       "      <th>MEDIAN_MEAL_RATING</th>\n",
       "      <th>out_TOTAL_MEALS_ORDERED</th>\n",
       "      <th>out_CONTACTS_W_CUSTOMER_SERVICE</th>\n",
       "      <th>change_AVG_PREP_VID_TIME_1</th>\n",
       "      <th>change_UNIQUE_MEALS_PURCH_0</th>\n",
       "      <th>change_CONTACTS_W_CUSTOMER_SERVICE_0</th>\n",
       "      <th>change_MEDIAN_MEAL_RATING_0</th>\n",
       "      <th>change_MEDIAN_MEAL_RATING_1</th>\n",
       "      <th>change_MASTER_CLASSES_ATTENDED_0</th>\n",
       "      <th>change_MASTER_CLASSES_ATTENDED_1</th>\n",
       "      <th>change_TOTAL_PHOTOS_VIEWED_0</th>\n",
       "    </tr>\n",
       "  </thead>\n",
       "  <tbody>\n",
       "    <tr>\n",
       "      <th>TOTAL_MEALS_ORDERED</th>\n",
       "      <td>1.00</td>\n",
       "      <td>-0.06</td>\n",
       "      <td>0.48</td>\n",
       "      <td>0.36</td>\n",
       "      <td>0.48</td>\n",
       "      <td>NaN</td>\n",
       "      <td>-0.03</td>\n",
       "      <td>0.40</td>\n",
       "      <td>-0.13</td>\n",
       "      <td>-0.41</td>\n",
       "      <td>0.07</td>\n",
       "      <td>0.39</td>\n",
       "      <td>0.26</td>\n",
       "      <td>0.16</td>\n",
       "      <td>-0.28</td>\n",
       "    </tr>\n",
       "    <tr>\n",
       "      <th>CONTACTS_W_CUSTOMER_SERVICE</th>\n",
       "      <td>-0.06</td>\n",
       "      <td>1.00</td>\n",
       "      <td>0.04</td>\n",
       "      <td>-0.01</td>\n",
       "      <td>-0.02</td>\n",
       "      <td>NaN</td>\n",
       "      <td>0.14</td>\n",
       "      <td>0.04</td>\n",
       "      <td>-0.02</td>\n",
       "      <td>0.70</td>\n",
       "      <td>-0.19</td>\n",
       "      <td>0.19</td>\n",
       "      <td>0.01</td>\n",
       "      <td>-0.02</td>\n",
       "      <td>-0.03</td>\n",
       "    </tr>\n",
       "    <tr>\n",
       "      <th>AVG_PREP_VID_TIME</th>\n",
       "      <td>0.48</td>\n",
       "      <td>0.04</td>\n",
       "      <td>1.00</td>\n",
       "      <td>0.80</td>\n",
       "      <td>0.49</td>\n",
       "      <td>NaN</td>\n",
       "      <td>-0.03</td>\n",
       "      <td>0.76</td>\n",
       "      <td>-0.11</td>\n",
       "      <td>-0.31</td>\n",
       "      <td>0.08</td>\n",
       "      <td>0.41</td>\n",
       "      <td>0.31</td>\n",
       "      <td>0.24</td>\n",
       "      <td>-0.27</td>\n",
       "    </tr>\n",
       "    <tr>\n",
       "      <th>LARGEST_ORDER_SIZE</th>\n",
       "      <td>0.36</td>\n",
       "      <td>-0.01</td>\n",
       "      <td>0.80</td>\n",
       "      <td>1.00</td>\n",
       "      <td>0.35</td>\n",
       "      <td>NaN</td>\n",
       "      <td>-0.04</td>\n",
       "      <td>0.63</td>\n",
       "      <td>-0.11</td>\n",
       "      <td>-0.23</td>\n",
       "      <td>0.00</td>\n",
       "      <td>0.35</td>\n",
       "      <td>0.23</td>\n",
       "      <td>0.15</td>\n",
       "      <td>-0.21</td>\n",
       "    </tr>\n",
       "    <tr>\n",
       "      <th>MEDIAN_MEAL_RATING</th>\n",
       "      <td>0.48</td>\n",
       "      <td>-0.02</td>\n",
       "      <td>0.49</td>\n",
       "      <td>0.35</td>\n",
       "      <td>1.00</td>\n",
       "      <td>NaN</td>\n",
       "      <td>-0.01</td>\n",
       "      <td>0.40</td>\n",
       "      <td>-0.08</td>\n",
       "      <td>-0.40</td>\n",
       "      <td>0.31</td>\n",
       "      <td>0.62</td>\n",
       "      <td>0.32</td>\n",
       "      <td>0.10</td>\n",
       "      <td>-0.37</td>\n",
       "    </tr>\n",
       "    <tr>\n",
       "      <th>out_TOTAL_MEALS_ORDERED</th>\n",
       "      <td>NaN</td>\n",
       "      <td>NaN</td>\n",
       "      <td>NaN</td>\n",
       "      <td>NaN</td>\n",
       "      <td>NaN</td>\n",
       "      <td>NaN</td>\n",
       "      <td>NaN</td>\n",
       "      <td>NaN</td>\n",
       "      <td>NaN</td>\n",
       "      <td>NaN</td>\n",
       "      <td>NaN</td>\n",
       "      <td>NaN</td>\n",
       "      <td>NaN</td>\n",
       "      <td>NaN</td>\n",
       "      <td>NaN</td>\n",
       "    </tr>\n",
       "    <tr>\n",
       "      <th>out_CONTACTS_W_CUSTOMER_SERVICE</th>\n",
       "      <td>-0.03</td>\n",
       "      <td>0.14</td>\n",
       "      <td>-0.03</td>\n",
       "      <td>-0.04</td>\n",
       "      <td>-0.01</td>\n",
       "      <td>NaN</td>\n",
       "      <td>1.00</td>\n",
       "      <td>-0.03</td>\n",
       "      <td>-0.01</td>\n",
       "      <td>0.09</td>\n",
       "      <td>-0.00</td>\n",
       "      <td>-0.01</td>\n",
       "      <td>-0.03</td>\n",
       "      <td>0.05</td>\n",
       "      <td>-0.01</td>\n",
       "    </tr>\n",
       "    <tr>\n",
       "      <th>change_AVG_PREP_VID_TIME_1</th>\n",
       "      <td>0.40</td>\n",
       "      <td>0.04</td>\n",
       "      <td>0.76</td>\n",
       "      <td>0.63</td>\n",
       "      <td>0.40</td>\n",
       "      <td>NaN</td>\n",
       "      <td>-0.03</td>\n",
       "      <td>1.00</td>\n",
       "      <td>-0.09</td>\n",
       "      <td>-0.24</td>\n",
       "      <td>0.09</td>\n",
       "      <td>0.35</td>\n",
       "      <td>0.30</td>\n",
       "      <td>0.14</td>\n",
       "      <td>-0.24</td>\n",
       "    </tr>\n",
       "    <tr>\n",
       "      <th>change_UNIQUE_MEALS_PURCH_0</th>\n",
       "      <td>-0.13</td>\n",
       "      <td>-0.02</td>\n",
       "      <td>-0.11</td>\n",
       "      <td>-0.11</td>\n",
       "      <td>-0.08</td>\n",
       "      <td>NaN</td>\n",
       "      <td>-0.01</td>\n",
       "      <td>-0.09</td>\n",
       "      <td>1.00</td>\n",
       "      <td>0.04</td>\n",
       "      <td>0.03</td>\n",
       "      <td>-0.09</td>\n",
       "      <td>-0.06</td>\n",
       "      <td>0.01</td>\n",
       "      <td>0.06</td>\n",
       "    </tr>\n",
       "    <tr>\n",
       "      <th>change_CONTACTS_W_CUSTOMER_SERVICE_0</th>\n",
       "      <td>-0.41</td>\n",
       "      <td>0.70</td>\n",
       "      <td>-0.31</td>\n",
       "      <td>-0.23</td>\n",
       "      <td>-0.40</td>\n",
       "      <td>NaN</td>\n",
       "      <td>0.09</td>\n",
       "      <td>-0.24</td>\n",
       "      <td>0.04</td>\n",
       "      <td>1.00</td>\n",
       "      <td>-0.27</td>\n",
       "      <td>-0.12</td>\n",
       "      <td>-0.23</td>\n",
       "      <td>-0.09</td>\n",
       "      <td>0.21</td>\n",
       "    </tr>\n",
       "    <tr>\n",
       "      <th>change_MEDIAN_MEAL_RATING_0</th>\n",
       "      <td>0.07</td>\n",
       "      <td>-0.19</td>\n",
       "      <td>0.08</td>\n",
       "      <td>0.00</td>\n",
       "      <td>0.31</td>\n",
       "      <td>NaN</td>\n",
       "      <td>-0.00</td>\n",
       "      <td>0.09</td>\n",
       "      <td>0.03</td>\n",
       "      <td>-0.27</td>\n",
       "      <td>1.00</td>\n",
       "      <td>-0.44</td>\n",
       "      <td>0.12</td>\n",
       "      <td>0.04</td>\n",
       "      <td>-0.03</td>\n",
       "    </tr>\n",
       "    <tr>\n",
       "      <th>change_MEDIAN_MEAL_RATING_1</th>\n",
       "      <td>0.39</td>\n",
       "      <td>0.19</td>\n",
       "      <td>0.41</td>\n",
       "      <td>0.35</td>\n",
       "      <td>0.62</td>\n",
       "      <td>NaN</td>\n",
       "      <td>-0.01</td>\n",
       "      <td>0.35</td>\n",
       "      <td>-0.09</td>\n",
       "      <td>-0.12</td>\n",
       "      <td>-0.44</td>\n",
       "      <td>1.00</td>\n",
       "      <td>0.23</td>\n",
       "      <td>0.04</td>\n",
       "      <td>-0.33</td>\n",
       "    </tr>\n",
       "    <tr>\n",
       "      <th>change_MASTER_CLASSES_ATTENDED_0</th>\n",
       "      <td>0.26</td>\n",
       "      <td>0.01</td>\n",
       "      <td>0.31</td>\n",
       "      <td>0.23</td>\n",
       "      <td>0.32</td>\n",
       "      <td>NaN</td>\n",
       "      <td>-0.03</td>\n",
       "      <td>0.30</td>\n",
       "      <td>-0.06</td>\n",
       "      <td>-0.23</td>\n",
       "      <td>0.12</td>\n",
       "      <td>0.23</td>\n",
       "      <td>1.00</td>\n",
       "      <td>-0.25</td>\n",
       "      <td>-0.23</td>\n",
       "    </tr>\n",
       "    <tr>\n",
       "      <th>change_MASTER_CLASSES_ATTENDED_1</th>\n",
       "      <td>0.16</td>\n",
       "      <td>-0.02</td>\n",
       "      <td>0.24</td>\n",
       "      <td>0.15</td>\n",
       "      <td>0.10</td>\n",
       "      <td>NaN</td>\n",
       "      <td>0.05</td>\n",
       "      <td>0.14</td>\n",
       "      <td>0.01</td>\n",
       "      <td>-0.09</td>\n",
       "      <td>0.04</td>\n",
       "      <td>0.04</td>\n",
       "      <td>-0.25</td>\n",
       "      <td>1.00</td>\n",
       "      <td>-0.08</td>\n",
       "    </tr>\n",
       "    <tr>\n",
       "      <th>change_TOTAL_PHOTOS_VIEWED_0</th>\n",
       "      <td>-0.28</td>\n",
       "      <td>-0.03</td>\n",
       "      <td>-0.27</td>\n",
       "      <td>-0.21</td>\n",
       "      <td>-0.37</td>\n",
       "      <td>NaN</td>\n",
       "      <td>-0.01</td>\n",
       "      <td>-0.24</td>\n",
       "      <td>0.06</td>\n",
       "      <td>0.21</td>\n",
       "      <td>-0.03</td>\n",
       "      <td>-0.33</td>\n",
       "      <td>-0.23</td>\n",
       "      <td>-0.08</td>\n",
       "      <td>1.00</td>\n",
       "    </tr>\n",
       "  </tbody>\n",
       "</table>\n",
       "</div>"
      ],
      "text/plain": [
       "                                      TOTAL_MEALS_ORDERED  CONTACTS_W_CUSTOMER_SERVICE  AVG_PREP_VID_TIME  LARGEST_ORDER_SIZE  MEDIAN_MEAL_RATING  out_TOTAL_MEALS_ORDERED  out_CONTACTS_W_CUSTOMER_SERVICE  change_AVG_PREP_VID_TIME_1  change_UNIQUE_MEALS_PURCH_0  change_CONTACTS_W_CUSTOMER_SERVICE_0  change_MEDIAN_MEAL_RATING_0  change_MEDIAN_MEAL_RATING_1  change_MASTER_CLASSES_ATTENDED_0  change_MASTER_CLASSES_ATTENDED_1  change_TOTAL_PHOTOS_VIEWED_0\n",
       "TOTAL_MEALS_ORDERED                                  1.00                        -0.06               0.48                0.36                0.48                      NaN                            -0.03                        0.40                        -0.13                                 -0.41                         0.07                         0.39                              0.26                              0.16                         -0.28\n",
       "CONTACTS_W_CUSTOMER_SERVICE                         -0.06                         1.00               0.04               -0.01               -0.02                      NaN                             0.14                        0.04                        -0.02                                  0.70                        -0.19                         0.19                              0.01                             -0.02                         -0.03\n",
       "AVG_PREP_VID_TIME                                    0.48                         0.04               1.00                0.80                0.49                      NaN                            -0.03                        0.76                        -0.11                                 -0.31                         0.08                         0.41                              0.31                              0.24                         -0.27\n",
       "LARGEST_ORDER_SIZE                                   0.36                        -0.01               0.80                1.00                0.35                      NaN                            -0.04                        0.63                        -0.11                                 -0.23                         0.00                         0.35                              0.23                              0.15                         -0.21\n",
       "MEDIAN_MEAL_RATING                                   0.48                        -0.02               0.49                0.35                1.00                      NaN                            -0.01                        0.40                        -0.08                                 -0.40                         0.31                         0.62                              0.32                              0.10                         -0.37\n",
       "out_TOTAL_MEALS_ORDERED                               NaN                          NaN                NaN                 NaN                 NaN                      NaN                              NaN                         NaN                          NaN                                   NaN                          NaN                          NaN                               NaN                               NaN                           NaN\n",
       "out_CONTACTS_W_CUSTOMER_SERVICE                     -0.03                         0.14              -0.03               -0.04               -0.01                      NaN                             1.00                       -0.03                        -0.01                                  0.09                        -0.00                        -0.01                             -0.03                              0.05                         -0.01\n",
       "change_AVG_PREP_VID_TIME_1                           0.40                         0.04               0.76                0.63                0.40                      NaN                            -0.03                        1.00                        -0.09                                 -0.24                         0.09                         0.35                              0.30                              0.14                         -0.24\n",
       "change_UNIQUE_MEALS_PURCH_0                         -0.13                        -0.02              -0.11               -0.11               -0.08                      NaN                            -0.01                       -0.09                         1.00                                  0.04                         0.03                        -0.09                             -0.06                              0.01                          0.06\n",
       "change_CONTACTS_W_CUSTOMER_SERVICE_0                -0.41                         0.70              -0.31               -0.23               -0.40                      NaN                             0.09                       -0.24                         0.04                                  1.00                        -0.27                        -0.12                             -0.23                             -0.09                          0.21\n",
       "change_MEDIAN_MEAL_RATING_0                          0.07                        -0.19               0.08                0.00                0.31                      NaN                            -0.00                        0.09                         0.03                                 -0.27                         1.00                        -0.44                              0.12                              0.04                         -0.03\n",
       "change_MEDIAN_MEAL_RATING_1                          0.39                         0.19               0.41                0.35                0.62                      NaN                            -0.01                        0.35                        -0.09                                 -0.12                        -0.44                         1.00                              0.23                              0.04                         -0.33\n",
       "change_MASTER_CLASSES_ATTENDED_0                     0.26                         0.01               0.31                0.23                0.32                      NaN                            -0.03                        0.30                        -0.06                                 -0.23                         0.12                         0.23                              1.00                             -0.25                         -0.23\n",
       "change_MASTER_CLASSES_ATTENDED_1                     0.16                        -0.02               0.24                0.15                0.10                      NaN                             0.05                        0.14                         0.01                                 -0.09                         0.04                         0.04                             -0.25                              1.00                         -0.08\n",
       "change_TOTAL_PHOTOS_VIEWED_0                        -0.28                        -0.03              -0.27               -0.21               -0.37                      NaN                            -0.01                       -0.24                         0.06                                  0.21                        -0.03                        -0.33                             -0.23                             -0.08                          1.00"
      ]
     },
     "execution_count": 46,
     "metadata": {},
     "output_type": "execute_result"
    }
   ],
   "source": [
    "# correlation matrix\n",
    "#fig, ax = plt.subplots(figsize=(15,15))\n",
    "\n",
    "# defining data frame with utilized variables\n",
    "corr_chef = out_chef.loc[:, variables_dict['ARD Features']].drop(['REVENUE','rev_log'], axis = 1).corr().round(2)\n",
    "\n",
    "#sns.heatmap(corr_chef,\n",
    "#            cmap = 'coolwarm',\n",
    "#            square = True,\n",
    "#            annot = True,\n",
    "#            linecolor = 'black',\n",
    "#            linewidths = 0.5)\n",
    "#\n",
    "#plt.show()\n",
    "corr_chef"
   ]
  },
  {
   "cell_type": "markdown",
   "metadata": {
    "deletable": false,
    "editable": false
   },
   "source": [
    "<strong> Observations: </strong> \n",
    "- there are no correlations above 0.8 so we can say that multicollinearity is not affecting our model."
   ]
  },
  {
   "cell_type": "markdown",
   "metadata": {
    "deletable": false,
    "editable": false
   },
   "source": [
    "<strong> 4. Re-sampling </strong>"
   ]
  },
  {
   "cell_type": "markdown",
   "metadata": {
    "deletable": false,
    "editable": false
   },
   "source": [
    "Model performance is dependent on how we split train and testing. Therefore it is important to conduct cross-validation to understand how our model is capable of generalizing when seeing new data. <br>\n",
    "<br>\n",
    "source: DataCamp - Supervised Learning with Scikit-Learn"
   ]
  },
  {
   "cell_type": "code",
   "execution_count": null,
   "metadata": {
    "deletable": false,
    "editable": false
   },
   "outputs": [],
   "source": [
    "# Using cross_val_score to store results of cross validation\n",
    "#cv_results = cross_val_score(out_lr, out_chef_x, out_chef_target, cv = 25)\n",
    "#\n",
    "#np.mean(cv_results)\n",
    "#\n",
    "# creating lists for cross validation score results\n",
    "cross_val = []\n",
    "\n",
    "# building a visualization for different fold numbers\n",
    "cross_val_settings = range(2, 30)\n",
    "\n",
    "\n",
    "for n_folds in cross_val_settings:\n",
    "    # Building the model\n",
    "    cv_results = cross_val_score(out_lr, out_chef_x, out_chef_target, cv = n_folds)\n",
    "\n",
    "    # Recording the scores\n",
    "    cross_val.append(np.mean(cv_results))\n",
    "#\n",
    "## plotting the visualization\n",
    "#fig, ax = plt.subplots(figsize=(12,8))\n",
    "#plt.plot(cross_val_settings, cross_val, label = \"Cross Validation Scores\")\n",
    "#plt.ylabel(\"score\")\n",
    "#plt.xlabel(\"number of folds\")\n",
    "#plt.legend()\n",
    "#plt.show()\n",
    "#\n",
    "# finding the optimal number of neighbors\n",
    "max_score = cross_val.index(max(cross_val)) + 1\n",
    "print(f\"\"\"The max score was achieved at {max_score}\"\"\")\n"
   ]
  },
  {
   "cell_type": "code",
   "execution_count": null,
   "metadata": {
    "deletable": false,
    "editable": false
   },
   "outputs": [],
   "source": [
    "# Finding the highest achieved test score with cross validation\n",
    "cross_val[11] "
   ]
  },
  {
   "cell_type": "markdown",
   "metadata": {
    "deletable": false,
    "editable": false
   },
   "source": [
    "<strong> Observations: </strong> \n",
    "- After cross-validation, our model still seems to perform really well to predict Revenue!"
   ]
  },
  {
   "cell_type": "markdown",
   "metadata": {
    "deletable": false,
    "editable": false
   },
   "source": [
    "## Conclusion"
   ]
  },
  {
   "cell_type": "markdown",
   "metadata": {
    "deletable": false,
    "editable": false
   },
   "source": [
    "- Our best performing model was a Linear Regression with 15 features with a test score of 0.8279 and a cross validation score with 11 folds at 0.8086\n",
    "- Optimal features were found using regularization methods such as Lasso and ARD Regression\n",
    "- It is predicting the log of revenue, therefore when interpreting coefficients, it is important to transform back using 10<sup>(coef)"
   ]
  }
 ],
 "metadata": {
  "kernelspec": {
   "display_name": "Python 3",
   "language": "python",
   "name": "python3"
  },
  "language_info": {
   "codemirror_mode": {
    "name": "ipython",
    "version": 3
   },
   "file_extension": ".py",
   "mimetype": "text/x-python",
   "name": "python",
   "nbconvert_exporter": "python",
   "pygments_lexer": "ipython3",
   "version": "3.7.3"
  },
  "toc": {
   "base_numbering": 1,
   "nav_menu": {
    "height": "348px",
    "width": "499px"
   },
   "number_sections": true,
   "sideBar": true,
   "skip_h1_title": false,
   "title_cell": "Table of Contents",
   "title_sidebar": "Contents",
   "toc_cell": false,
   "toc_position": {},
   "toc_section_display": true,
   "toc_window_display": false
  },
  "varInspector": {
   "cols": {
    "lenName": 16,
    "lenType": 16,
    "lenVar": 40
   },
   "kernels_config": {
    "python": {
     "delete_cmd_postfix": "",
     "delete_cmd_prefix": "del ",
     "library": "var_list.py",
     "varRefreshCmd": "print(var_dic_list())"
    },
    "r": {
     "delete_cmd_postfix": ") ",
     "delete_cmd_prefix": "rm(",
     "library": "var_list.r",
     "varRefreshCmd": "cat(var_dic_list()) "
    }
   },
   "types_to_exclude": [
    "module",
    "function",
    "builtin_function_or_method",
    "instance",
    "_Feature"
   ],
   "window_display": false
  }
 },
 "nbformat": 4,
 "nbformat_minor": 4
}
